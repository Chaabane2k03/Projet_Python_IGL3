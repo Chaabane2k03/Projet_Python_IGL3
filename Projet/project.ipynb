{
 "cells": [
  {
   "cell_type": "markdown",
   "id": "2d74ec04",
   "metadata": {},
   "source": [
    "### Projet IGL3/IDS3 : Analyse Numérique Matricielle dans le cadre de la gestion de bases de données bibliographiques "
   ]
  },
  {
   "cell_type": "code",
   "execution_count": null,
   "id": "243a435a",
   "metadata": {},
   "outputs": [],
   "source": [
    "import numpy as np\n",
    "from fuzzywuzzy import fuzz"
   ]
  },
  {
   "cell_type": "code",
   "execution_count": null,
   "id": "9d9cee5d",
   "metadata": {},
   "outputs": [],
   "source": [
    "# 1ère Partie : Calcul de score de document : Sans utilisation de la décomposition SVD\n",
    "# Modèle de l'espace vectoriel\n",
    "\n",
    "def matrice_termes_documents(termes, documents):\n",
    "    \"\"\"\n",
    "      Cette méthode permet de construire la matrice termes-documents.\n",
    "    \"\"\"\n",
    "    matrice = np.zeros((len(termes), len(documents)), dtype=int)\n",
    "\n",
    "    termes_sorted = sorted(termes)\n",
    "    termes_sorted = [terme.lower() for terme in termes_sorted]\n",
    "\n",
    "    documents_termes = []\n",
    "\n",
    "    for doc in documents :\n",
    "        if isinstance(doc, str) :\n",
    "            termes_doc = doc.lower().split()\n",
    "        else :\n",
    "            termes_doc = doc\n",
    "\n",
    "        documents_termes.append(termes_doc)\n",
    "\n",
    "    for i , terme in enumerate(termes_sorted) :\n",
    "        for j, doc_termes in enumerate(documents_termes) :\n",
    "            if terme in doc_termes :\n",
    "                matrice[i][j] = 1\n",
    "\n",
    "    return matrice "
   ]
  },
  {
   "cell_type": "code",
   "execution_count": null,
   "id": "444240ce",
   "metadata": {},
   "outputs": [],
   "source": [
    "def afficher_matrice(matrice) :\n",
    "    \"\"\"\n",
    "      Cette méthode permet d'afficher la matrice termes-documents.\n",
    "    \"\"\"\n",
    "    for i in range(matrice.shape[0]) :\n",
    "        for j in range(matrice.shape[1]) :\n",
    "            print(matrice[i][j], end = \" \")\n",
    "        print()"
   ]
  },
  {
   "cell_type": "code",
   "execution_count": null,
   "id": "703b6cac",
   "metadata": {},
   "outputs": [],
   "source": [
    "#Test de la méthode : \n",
    "# Génération de la matrice termes-documents (Exemple 1)\n",
    "documents = [\n",
    "    \"Algèbre linéaire et matrices\",\n",
    "    \"Analyse réele et suites\",\n",
    "    \"Probabilités et statistiques\",\n",
    "    \"Matrices et déterminants\"\n",
    "]\n",
    "\n",
    "termes = [\n",
    "    \"algèbre\",\n",
    "    \"matrices\",\n",
    "    \"analyse\",\n",
    "    \"suites\",\n",
    "    \"probabilités\",\n",
    "    \"statistiques\",\n",
    "    \"déterminants\"\n",
    "]\n",
    "\n",
    "\n",
    "matrice = matrice_termes_documents(termes, documents)\n",
    "afficher_matrice(matrice)"
   ]
  },
  {
   "cell_type": "code",
   "execution_count": null,
   "id": "42449424",
   "metadata": {},
   "outputs": [],
   "source": [
    "from fuzzywuzzy import fuzz\n",
    "import numpy as np\n",
    "\n",
    "def requete_vers_colonne(termes, requete):\n",
    "    vecteur = [0] * len(termes) \n",
    "    termes_sorted = sorted(termes)\n",
    "    mots_requete = requete.lower().split()\n",
    "    \n",
    "    for i, terme in enumerate(termes_sorted):\n",
    "        for mot in mots_requete:\n",
    "            if fuzz.ratio(terme.lower(), mot) >= 90:\n",
    "                vecteur[i] = 1  \n",
    "                break  \n",
    "    \n",
    "    return vecteur\n"
   ]
  },
  {
   "cell_type": "code",
   "execution_count": null,
   "id": "7b4013fe",
   "metadata": {},
   "outputs": [],
   "source": [
    "#Test de la méthode :\n",
    "requete = \"Algèbre matrice\"\n",
    "vecteur_colonne = requete_vers_colonne(termes, requete)\n",
    "vecteur_colonne"
   ]
  },
  {
   "cell_type": "code",
   "execution_count": null,
   "id": "d478a639",
   "metadata": {},
   "outputs": [],
   "source": [
    "def score_document(j , matrice , q):\n",
    "    \"\"\"\n",
    "      Cette méthode permet de calculer le score d'un document j par rapport à une requête q.\n",
    "    \"\"\"\n",
    "    vect_doc = matrice[:, j]\n",
    "    norme_req = np.linalg.norm(q)\n",
    "    if norme_req == 0:\n",
    "        return 0\n",
    "    \n",
    "    norme_doc = np.linalg.norm(vect_doc)\n",
    "    if norme_doc == 0:\n",
    "        return 0\n",
    "    \n",
    "    produit_scalaire = np.dot(vect_doc, q)\n",
    "\n",
    "    score =  float(produit_scalaire / (norme_doc * norme_req))\n",
    "    return round(score, 2)"
   ]
  },
  {
   "cell_type": "code",
   "execution_count": null,
   "id": "a0006a30",
   "metadata": {},
   "outputs": [],
   "source": [
    "# Affichage des scores de documents : \n",
    "def tab_score(matrice , q):\n",
    "    \"\"\"\n",
    "      Cette méthode permet de calculer le score de chaque document par rapport à la requête q.\n",
    "    \"\"\"\n",
    "    scores = []\n",
    "    for j in range(matrice.shape[1]):\n",
    "        score = score_document(j, matrice, q)\n",
    "        scores.append(score)\n",
    "    return scores"
   ]
  },
  {
   "cell_type": "code",
   "execution_count": null,
   "id": "e1958b49",
   "metadata": {},
   "outputs": [],
   "source": [
    "def resultat_requete(matrice, q , score_min = 0.8):\n",
    "    \"\"\"\n",
    "    Cette méthode permet d'afficher le score de chaque document par rapport à la requête q\n",
    "    et détermine le document le plus pertinent.\n",
    "    \"\"\"\n",
    "    scores = tab_score(matrice, q)\n",
    "    \n",
    "    for i, score in enumerate(scores):\n",
    "        print(f\"Document {i+1} : {score}\")\n",
    "    \n",
    "    if len(scores) > 0 and max(scores) > score_min :\n",
    "        indice_max = scores.index(max(scores))\n",
    "        print(f\"\\nLe document le plus pertinent est le Document {indice_max+1} avec un score de {scores[indice_max]}\")\n",
    "    else:\n",
    "        print(\"\\nAucun document disponible pour évaluation\")"
   ]
  },
  {
   "cell_type": "code",
   "execution_count": null,
   "id": "6fbcaafe",
   "metadata": {},
   "outputs": [],
   "source": [
    "#Test des méthodes (Sans utilisation de la décomposition SVD) :\n",
    "# Exemple 1 : \n",
    "\n",
    "requete = \"Algèbre matrice\"\n",
    "vecteur_colonne = requete_vers_colonne(termes, requete)\n",
    "\n",
    "print(\"---------------AFFICHAGE DE LA MATRICE---------------\\n\")\n",
    "matrice = matrice_termes_documents(termes, documents)\n",
    "afficher_matrice(matrice)\n",
    "print(\"\\n---------------TRAVAIL DE LA REQUETE---------------\\n\")\n",
    "# Affichage des scores de documents :\n",
    "resultat_requete(matrice, vecteur_colonne, score_min = 0.8)\n"
   ]
  },
  {
   "cell_type": "code",
   "execution_count": null,
   "id": "9a3a545c",
   "metadata": {},
   "outputs": [],
   "source": [
    "# Avant le test de l'exemple 3 : Génération de la matrice termes-documents (Exemple 3)\n",
    "documents_exemple_3 = [\n",
    "    \"Croissance PIB Investissement\",\n",
    "    \"Inflation Monnaie Dépression\",\n",
    "    \"Commerce Exportation Croissance\",\n",
    "    \"Emploi Chômage Salaire\",\n",
    "    \"Impôts Fiscalité Budget\",\n",
    "    \"Géologie Faille Tremblement\",\n",
    "    \"Volcan Séisme Plaque tectonique\",\n",
    "    \"Dépression Bassin Erosion\",\n",
    "    \"Stratigraphie Couches Roche\",\n",
    "    \"Gisement Forage Bassin\"\n",
    "]\n",
    "\n",
    "termes_exemple_3 = [\n",
    "    \"Bassin\",\n",
    "    \"Chômage\",\n",
    "    \"Croissance\",\n",
    "    \"Dépression\",\n",
    "    \"Fiscalité\",\n",
    "    \"Séisme\"\n",
    "]\n",
    "\n",
    "matrice_exemple_3 = matrice_termes_documents(termes_exemple_3, documents_exemple_3)\n",
    "afficher_matrice(matrice_exemple_3)"
   ]
  },
  {
   "cell_type": "code",
   "execution_count": null,
   "id": "abde7825",
   "metadata": {},
   "outputs": [],
   "source": [
    "# Exemple 3 (REQUERTES) :\n",
    "requete_exemple_3_1 = \"dépression croissance\"\n",
    "requete_exemple_3_2 = \"bassin fiscalité\""
   ]
  },
  {
   "cell_type": "code",
   "execution_count": null,
   "id": "0693c97d",
   "metadata": {},
   "outputs": [],
   "source": [
    "#Test de la méthode (EXEMPLE 3) :\n",
    "vecteur_colonne_exemple_3_1 = requete_vers_colonne(termes_exemple_3, requete_exemple_3_1)\n",
    "vecteur_colonne_exemple_3_2 = requete_vers_colonne(termes_exemple_3, requete_exemple_3_2)\n",
    "\n",
    "print(\"\\n---------------TRAVAIL DE LA REQUETE 1---------------\\n\")\n",
    "resultat_requete(matrice_exemple_3, vecteur_colonne_exemple_3_1, score_min = 0.8)\n"
   ]
  },
  {
   "cell_type": "code",
   "execution_count": null,
   "id": "5bf809a6",
   "metadata": {},
   "outputs": [],
   "source": [
    "print(\"\\n---------------TRAVAIL DE LA REQUETE 2---------------\\n\")\n",
    "resultat_requete(matrice_exemple_3, vecteur_colonne_exemple_3_1, score_min = 0.8)"
   ]
  }
 ],
 "metadata": {
  "kernelspec": {
   "display_name": "Python 3",
   "language": "python",
   "name": "python3"
  },
  "language_info": {
   "codemirror_mode": {
    "name": "ipython",
    "version": 3
   },
   "file_extension": ".py",
   "mimetype": "text/x-python",
   "name": "python",
   "nbconvert_exporter": "python",
   "pygments_lexer": "ipython3",
   "version": "3.12.6"
  }
 },
 "nbformat": 4,
 "nbformat_minor": 5
}
