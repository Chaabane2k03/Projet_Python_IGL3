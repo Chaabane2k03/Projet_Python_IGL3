{
 "cells": [
  {
   "cell_type": "markdown",
   "id": "2d74ec04",
   "metadata": {},
   "source": [
    "### Projet IGL3/IDS3 : Analyse Numérique Matricielle dans le cadre de la gestion de bases de données bibliographiques "
   ]
  },
  {
   "cell_type": "code",
   "execution_count": 70,
   "id": "243a435a",
   "metadata": {},
   "outputs": [],
   "source": [
    "import numpy as np\n",
    "from fuzzywuzzy import fuzz\n",
    "import matplotlib.pyplot as plt\n",
    "import time\n",
    "from scipy.linalg import qr"
   ]
  },
  {
   "cell_type": "code",
   "execution_count": 71,
   "id": "9d9cee5d",
   "metadata": {},
   "outputs": [],
   "source": [
    "# 1ère Partie : Calcul de score de document : Sans utilisation de la décomposition SVD\n",
    "# Modèle de l'espace vectoriel\n",
    "\n",
    "def matrice_termes_documents(termes, documents):\n",
    "    \"\"\"\n",
    "      Cette méthode permet de construire la matrice termes-documents.\n",
    "    \"\"\"\n",
    "    matrice = np.zeros((len(termes), len(documents)), dtype=int)\n",
    "\n",
    "    termes_sorted = sorted(termes)\n",
    "    termes_sorted = [terme.lower() for terme in termes_sorted]\n",
    "\n",
    "    documents_termes = []\n",
    "\n",
    "    for doc in documents :\n",
    "        if isinstance(doc, str) :\n",
    "            termes_doc = doc.lower().split()\n",
    "        else :\n",
    "            termes_doc = doc\n",
    "\n",
    "        documents_termes.append(termes_doc)\n",
    "\n",
    "    for i , terme in enumerate(termes_sorted) :\n",
    "        for j, doc_termes in enumerate(documents_termes) :\n",
    "            if terme in doc_termes :\n",
    "                matrice[i][j] = 1\n",
    "\n",
    "    return matrice "
   ]
  },
  {
   "cell_type": "code",
   "execution_count": 72,
   "id": "444240ce",
   "metadata": {},
   "outputs": [],
   "source": [
    "def afficher_matrice(matrice) :\n",
    "    \"\"\"\n",
    "      Cette méthode permet d'afficher la matrice termes-documents.\n",
    "    \"\"\"\n",
    "    for i in range(matrice.shape[0]) :\n",
    "        for j in range(matrice.shape[1]) :\n",
    "            print(matrice[i][j], end = \" \")\n",
    "        print()"
   ]
  },
  {
   "cell_type": "code",
   "execution_count": 73,
   "id": "703b6cac",
   "metadata": {},
   "outputs": [
    {
     "name": "stdout",
     "output_type": "stream",
     "text": [
      "1 0 0 0 \n",
      "0 1 0 0 \n",
      "0 0 0 1 \n",
      "1 0 0 1 \n",
      "0 0 1 0 \n",
      "0 0 1 0 \n",
      "0 1 0 0 \n"
     ]
    }
   ],
   "source": [
    "#Test de la méthode : \n",
    "# Génération de la matrice termes-documents (Exemple 1)\n",
    "documents = [\n",
    "    \"Algèbre linéaire et matrices\",\n",
    "    \"Analyse réele et suites\",\n",
    "    \"Probabilités et statistiques\",\n",
    "    \"Matrices et déterminants\"\n",
    "]\n",
    "\n",
    "termes = [\n",
    "    \"algèbre\",\n",
    "    \"matrices\",\n",
    "    \"analyse\",\n",
    "    \"suites\",\n",
    "    \"probabilités\",\n",
    "    \"statistiques\",\n",
    "    \"déterminants\"\n",
    "]\n",
    "\n",
    "\n",
    "matrice = matrice_termes_documents(termes, documents)\n",
    "afficher_matrice(matrice)"
   ]
  },
  {
   "cell_type": "code",
   "execution_count": 74,
   "id": "42449424",
   "metadata": {},
   "outputs": [],
   "source": [
    "\n",
    "\n",
    "def requete_vers_colonne(termes, requete):\n",
    "    vecteur = [0] * len(termes) \n",
    "    termes_sorted = sorted(termes)\n",
    "    mots_requete = requete.lower().split()\n",
    "    \n",
    "    for i, terme in enumerate(termes_sorted):\n",
    "        for mot in mots_requete:\n",
    "            if fuzz.ratio(terme.lower(), mot) >= 90:\n",
    "                vecteur[i] = 1  \n",
    "                break  \n",
    "    \n",
    "    return vecteur\n"
   ]
  },
  {
   "cell_type": "code",
   "execution_count": 75,
   "id": "7b4013fe",
   "metadata": {},
   "outputs": [
    {
     "data": {
      "text/plain": [
       "[1, 0, 0, 1, 0, 0, 0]"
      ]
     },
     "execution_count": 75,
     "metadata": {},
     "output_type": "execute_result"
    }
   ],
   "source": [
    "#Test de la méthode :\n",
    "requete = \"Algèbre matrice\"\n",
    "vecteur_colonne = requete_vers_colonne(termes, requete)\n",
    "vecteur_colonne"
   ]
  },
  {
   "cell_type": "code",
   "execution_count": 76,
   "id": "d478a639",
   "metadata": {},
   "outputs": [],
   "source": [
    "def score_document(j , matrice , q):\n",
    "    \"\"\"\n",
    "      Cette méthode permet de calculer le score d'un document j par rapport à une requête q.\n",
    "    \"\"\"\n",
    "    vect_doc = matrice[:, j]\n",
    "    norme_req = np.linalg.norm(q)\n",
    "    if norme_req == 0:\n",
    "        return 0\n",
    "    \n",
    "    norme_doc = np.linalg.norm(vect_doc)\n",
    "    if norme_doc == 0:\n",
    "        return 0\n",
    "    \n",
    "    produit_scalaire = np.dot(vect_doc, q)\n",
    "\n",
    "    score =  float(produit_scalaire / (norme_doc * norme_req))\n",
    "    return round(score, 2)"
   ]
  },
  {
   "cell_type": "code",
   "execution_count": 77,
   "id": "a0006a30",
   "metadata": {},
   "outputs": [],
   "source": [
    "# Affichage des scores de documents : \n",
    "def tab_score(matrice , q):\n",
    "    \"\"\"\n",
    "      Cette méthode permet de calculer le score de chaque document par rapport à la requête q.\n",
    "    \"\"\"\n",
    "    scores = []\n",
    "    for j in range(matrice.shape[1]):\n",
    "        score = score_document(j, matrice, q)\n",
    "        scores.append(score)\n",
    "    return scores"
   ]
  },
  {
   "cell_type": "code",
   "execution_count": 78,
   "id": "e1958b49",
   "metadata": {},
   "outputs": [],
   "source": [
    "def resultat_requete(matrice, q, score_min=0.8):\n",
    "    \"\"\"\n",
    "    Affiche les scores strictement positifs des documents par rapport à la requête q,\n",
    "    triés par ordre croissant, et détermine le document le plus pertinent.\n",
    "    \n",
    "    Args:\n",
    "        matrice: Matrice représentant les documents.\n",
    "        q: Requête.\n",
    "        score_min: Seuil minimum pour considérer un document pertinent (par défaut 0.8).\n",
    "    \"\"\"\n",
    "    # Calculer les scores\n",
    "    scores = tab_score(matrice, q)\n",
    "    \n",
    "    # Créer une liste de tuples (indice, score) pour les scores > 0\n",
    "    scores_positifs = [(i, score) for i, score in enumerate(scores) if score > 0]\n",
    "    \n",
    "    # Trier par score en ordre croissant\n",
    "    scores_positifs = sorted(scores_positifs, key=lambda x: x[1], reverse=True)\n",
    "    \n",
    "    # Afficher les scores positifs\n",
    "    if scores_positifs:\n",
    "        for i, score in scores_positifs:\n",
    "            print(f\"Document {i+1} : {score}\")\n",
    "    else:\n",
    "        print(\"Aucun document avec un score strictement positif\")\n",
    "    \n",
    "    # Identifier le document le plus pertinent\n",
    "    if len(scores) > 0 and max(scores, default=0) > score_min:\n",
    "        indice_max = scores.index(max(scores))\n",
    "        print(f\"\\nLe document le plus pertinent est le Document {indice_max+1} avec un score de {scores[indice_max]}\")\n",
    "    else:\n",
    "        print(\"\\nAucun document disponible pour évaluation ou score insuffisant\")"
   ]
  },
  {
   "cell_type": "code",
   "execution_count": 79,
   "id": "6fbcaafe",
   "metadata": {},
   "outputs": [
    {
     "name": "stdout",
     "output_type": "stream",
     "text": [
      "---------------AFFICHAGE DE LA MATRICE---------------\n",
      "\n",
      "1 0 0 0 \n",
      "0 1 0 0 \n",
      "0 0 0 1 \n",
      "1 0 0 1 \n",
      "0 0 1 0 \n",
      "0 0 1 0 \n",
      "0 1 0 0 \n",
      "\n",
      "---------------TRAVAIL DE LA REQUETE---------------\n",
      "\n",
      "Document 1 : 1.0\n",
      "Document 4 : 0.5\n",
      "\n",
      "Le document le plus pertinent est le Document 1 avec un score de 1.0\n"
     ]
    }
   ],
   "source": [
    "#Test des méthodes (Sans utilisation de la décomposition SVD) :\n",
    "# Exemple 1 : \n",
    "\n",
    "requete = \"Algèbre matrice\"\n",
    "vecteur_colonne = requete_vers_colonne(termes, requete)\n",
    "\n",
    "print(\"---------------AFFICHAGE DE LA MATRICE---------------\\n\")\n",
    "matrice = matrice_termes_documents(termes, documents)\n",
    "afficher_matrice(matrice)\n",
    "print(\"\\n---------------TRAVAIL DE LA REQUETE---------------\\n\")\n",
    "# Affichage des scores de documents :\n",
    "resultat_requete(matrice, vecteur_colonne, score_min = 0.8)\n"
   ]
  },
  {
   "cell_type": "code",
   "execution_count": 80,
   "id": "9a3a545c",
   "metadata": {},
   "outputs": [
    {
     "name": "stdout",
     "output_type": "stream",
     "text": [
      "0 0 0 0 0 0 0 1 0 1 \n",
      "0 0 0 1 0 0 0 0 0 0 \n",
      "1 0 1 0 0 0 0 0 0 0 \n",
      "0 1 0 0 0 0 0 1 0 0 \n",
      "0 0 0 0 1 0 0 0 0 0 \n",
      "0 0 0 0 0 0 1 0 0 0 \n"
     ]
    }
   ],
   "source": [
    "# Avant le test de l'exemple 3 : Génération de la matrice termes-documents (Exemple 3)\n",
    "documents_exemple_3 = [\n",
    "    \"Croissance PIB Investissement\",\n",
    "    \"Inflation Monnaie Dépression\",\n",
    "    \"Commerce Exportation Croissance\",\n",
    "    \"Emploi Chômage Salaire\",\n",
    "    \"Impôts Fiscalité Budget\",\n",
    "    \"Géologie Faille Tremblement\",\n",
    "    \"Volcan Séisme Plaque tectonique\",\n",
    "    \"Dépression Bassin Erosion\",\n",
    "    \"Stratigraphie Couches Roche\",\n",
    "    \"Gisement Forage Bassin\"\n",
    "]\n",
    "\n",
    "termes_exemple_3 = [\n",
    "    \"Bassin\",\n",
    "    \"Chômage\",\n",
    "    \"Croissance\",\n",
    "    \"Dépression\",\n",
    "    \"Fiscalité\",\n",
    "    \"Séisme\"\n",
    "]\n",
    "\n",
    "matrice_exemple_3 = matrice_termes_documents(termes_exemple_3, documents_exemple_3)\n",
    "afficher_matrice(matrice_exemple_3)"
   ]
  },
  {
   "cell_type": "code",
   "execution_count": 81,
   "id": "abde7825",
   "metadata": {},
   "outputs": [],
   "source": [
    "# Exemple 3 (REQUERTES) :\n",
    "requete_exemple_3_1 = \"dépression croissance\"\n",
    "requete_exemple_3_2 = \"bassin fiscalité\""
   ]
  },
  {
   "cell_type": "code",
   "execution_count": 82,
   "id": "0693c97d",
   "metadata": {},
   "outputs": [
    {
     "name": "stdout",
     "output_type": "stream",
     "text": [
      "\n",
      "---------------TRAVAIL DE LA REQUETE 1---------------\n",
      "\n",
      "Document 1 : 0.71\n",
      "Document 2 : 0.71\n",
      "Document 3 : 0.71\n",
      "Document 8 : 0.5\n",
      "\n",
      "Aucun document disponible pour évaluation ou score insuffisant\n"
     ]
    }
   ],
   "source": [
    "#Test de la méthode (EXEMPLE 3) :\n",
    "vecteur_colonne_exemple_3_1 = requete_vers_colonne(termes_exemple_3, requete_exemple_3_1)\n",
    "vecteur_colonne_exemple_3_2 = requete_vers_colonne(termes_exemple_3, requete_exemple_3_2)\n",
    "\n",
    "print(\"\\n---------------TRAVAIL DE LA REQUETE 1---------------\\n\")\n",
    "resultat_requete(matrice_exemple_3, vecteur_colonne_exemple_3_1, score_min = 0.8)\n"
   ]
  },
  {
   "cell_type": "code",
   "execution_count": 83,
   "id": "5bf809a6",
   "metadata": {},
   "outputs": [
    {
     "name": "stdout",
     "output_type": "stream",
     "text": [
      "\n",
      "---------------TRAVAIL DE LA REQUETE 2---------------\n",
      "\n",
      "Document 1 : 0.71\n",
      "Document 2 : 0.71\n",
      "Document 3 : 0.71\n",
      "Document 8 : 0.5\n",
      "\n",
      "Aucun document disponible pour évaluation ou score insuffisant\n"
     ]
    }
   ],
   "source": [
    "print(\"\\n---------------TRAVAIL DE LA REQUETE 2---------------\\n\")\n",
    "resultat_requete(matrice_exemple_3, vecteur_colonne_exemple_3_1, score_min = 0.8)"
   ]
  },
  {
   "cell_type": "markdown",
   "id": "e9fd044e",
   "metadata": {},
   "source": [
    "#### 2) Décomposition en valeurs singulières d'une matrice (SVD)"
   ]
  },
  {
   "cell_type": "code",
   "execution_count": 84,
   "id": "fe236309",
   "metadata": {},
   "outputs": [],
   "source": [
    "#Application de la décomposition SVD (méthode prédéfinie) :\n",
    "def decomposition_SVD(matrice):\n",
    "    \"\"\"\n",
    "      Cette méthode permet de calculer la décomposition SVD de la matrice.\n",
    "    \"\"\"\n",
    "    U, S, Vt = np.linalg.svd(matrice, full_matrices=False)\n",
    "    return U, S, Vt"
   ]
  },
  {
   "cell_type": "code",
   "execution_count": 85,
   "id": "82807e36",
   "metadata": {},
   "outputs": [
    {
     "name": "stdout",
     "output_type": "stream",
     "text": [
      "\n",
      "---------------DECOMPOSITION SVD---------------\n",
      "\n",
      "Matrice U :\n",
      " [[-4.08248290e-01  0.00000000e+00  0.00000000e+00  7.07106781e-01]\n",
      " [ 0.00000000e+00 -7.07106781e-01  0.00000000e+00  0.00000000e+00]\n",
      " [-4.08248290e-01  0.00000000e+00  0.00000000e+00 -7.07106781e-01]\n",
      " [-8.16496581e-01  0.00000000e+00  0.00000000e+00 -4.20449053e-16]\n",
      " [ 5.55111512e-17  0.00000000e+00 -7.07106781e-01  9.61481343e-17]\n",
      " [ 5.55111512e-17  0.00000000e+00 -7.07106781e-01  9.61481343e-17]\n",
      " [ 0.00000000e+00 -7.07106781e-01  0.00000000e+00  0.00000000e+00]]\n",
      "\n",
      "Matrice S :\n",
      " [1.73205081 1.41421356 1.41421356 1.        ]\n",
      "\n",
      "Matrice Vt :\n",
      " [[-0.70710678  0.          0.         -0.70710678]\n",
      " [-0.         -1.         -0.          0.        ]\n",
      " [-0.         -0.         -1.          0.        ]\n",
      " [ 0.70710678  0.          0.         -0.70710678]]\n"
     ]
    }
   ],
   "source": [
    "#Test de la méthode :\n",
    "U , S , Vt = decomposition_SVD(matrice)\n",
    "print(\"\\n---------------DECOMPOSITION SVD---------------\\n\")\n",
    "print(\"Matrice U :\\n\", U)\n",
    "print(\"\\nMatrice S :\\n\", S)\n",
    "print(\"\\nMatrice Vt :\\n\", Vt)\n"
   ]
  },
  {
   "cell_type": "code",
   "execution_count": 86,
   "id": "f851a3d5",
   "metadata": {},
   "outputs": [],
   "source": [
    "def approximation_SVD(matrice, k):\n",
    "    \"\"\"\n",
    "      Cette méthode permet de calculer l'approximation SVD de la matrice.\n",
    "    \"\"\"\n",
    "    U, S, Vt = decomposition_SVD(matrice)\n",
    "    S_k = np.zeros((U.shape[0], Vt.shape[0]))\n",
    "    np.fill_diagonal(S_k, S[:k])\n",
    "    return U[:, :k], S_k[:k, :k], Vt[:k, :]"
   ]
  },
  {
   "cell_type": "code",
   "execution_count": 87,
   "id": "d08776d2",
   "metadata": {},
   "outputs": [
    {
     "name": "stdout",
     "output_type": "stream",
     "text": [
      "\n",
      "---------------APPROXIMATION SVD : TEST RESULTAS---------------\n",
      "\n"
     ]
    },
    {
     "data": {
      "text/plain": [
       "((7, 4), (7, 3), (3, 3), (3, 4))"
      ]
     },
     "execution_count": 87,
     "metadata": {},
     "output_type": "execute_result"
    }
   ],
   "source": [
    "#Test de la méthode :\n",
    "app_U , app_S , app_Vt = approximation_SVD(matrice, 3)\n",
    "print(\"\\n---------------APPROXIMATION SVD : TEST RESULTAS---------------\\n\")\n",
    "matrice.shape ,app_U.shape, app_S.shape, app_Vt.shape"
   ]
  },
  {
   "cell_type": "code",
   "execution_count": 88,
   "id": "18ae334b",
   "metadata": {},
   "outputs": [],
   "source": [
    "#Fonction de calcul du score de document avec SVD (SCORE DE PERTINENCE) :\n",
    "def score_pertinence(q , j , U_k , Sk , V_tk ):\n",
    "    \"\"\"\n",
    "      Cette méthode permet de calculer le score de pertinence d'un document j par rapport à une requête q\n",
    "      en utilisant la décomposition SVD.\n",
    "\n",
    "      PARAMETRES (ENTRÉES) :\n",
    "        - q : vecteur colonne de la requête\n",
    "        - matrice : matrice termes-documents (ORIGINALE) (n,m)\n",
    "        - j : indice du document\n",
    "        - U_k : matrice U de la décomposition SVD (approximation par k) : shape (n,k)\n",
    "        - Sk : matrice S de la décomposition SVD (approximation par k) : shape (k,k)\n",
    "        - V_tk : matrice Vt (transposé) de la décomposition SVD (approximation par k) : shape (k,m)\n",
    "    \"\"\"\n",
    "    # transposition de la matrice U_k\n",
    "    U_k_transpose = U_k.T\n",
    "    prod_1 = U_k_transpose @ q # produit de la matrice U_k transposée et du vecteur colonne q\n",
    "    prod_2 = Sk @ V_tk[: , j] # produit de la matrice S_k et de la matrice Vt_k et du vecteur colonne du document j\n",
    "\n",
    "    dominateur = np.linalg.norm(prod_1) * np.linalg.norm(prod_2) # produit des normes\n",
    "    if dominateur == 0:\n",
    "        return 0\n",
    "    \n",
    "    score = float(np.dot(prod_1, prod_2) / dominateur) # produit scalaire entre les deux produits\n",
    "    return round(max(score , 0), 2) # arrondi à 2 chiffres après la virgule\n",
    "   "
   ]
  },
  {
   "cell_type": "code",
   "execution_count": 89,
   "id": "d4680a1d",
   "metadata": {},
   "outputs": [],
   "source": [
    "# calcul scores de documents : \n",
    "def tab_score_pertinence(q , matrice , U_k , Sk , V_tk):\n",
    "    \"\"\"\n",
    "      Cette méthode permet de calculer le score de chaque document par rapport à la requête q.\n",
    "    \"\"\"\n",
    "    scores = []\n",
    "    for j in range(matrice.shape[1]):\n",
    "        score = score_pertinence(q  , j , U_k , Sk , V_tk)\n",
    "        scores.append(score)\n",
    "    return scores"
   ]
  },
  {
   "cell_type": "code",
   "execution_count": 90,
   "id": "278e024a",
   "metadata": {},
   "outputs": [],
   "source": [
    "def resultat_requete_pertinence(q, matrice, U_k, Sk, V_tk, score_min=0.8):\n",
    "    \"\"\"\n",
    "    Cette méthode affiche les scores des documents par rapport à la requête q (scores > 0 uniquement),\n",
    "    dans l'ordre décroissant des scores, et détermine le document le plus pertinent.\n",
    "    \n",
    "    Args:\n",
    "        q: Vecteur colonne représentant la requête.\n",
    "        matrice: Matrice termes-documents.\n",
    "        U_k: Matrice U tronquée issue de la SVD.\n",
    "        Sk: Matrice diagonale des valeurs singulières tronquées.\n",
    "        V_tk: Matrice V^T tronquée issue de la SVD.\n",
    "        score_min: Score minimum pour considérer un document comme pertinent (défaut: 0.8).\n",
    "    \"\"\"\n",
    "    print(\"SCORE MIN :\", score_min)\n",
    "    \n",
    "    # Calculer les scores\n",
    "    scores = tab_score_pertinence(q, matrice, U_k, Sk, V_tk)\n",
    "    \n",
    "    # Créer une liste de tuples (indice, score) pour les scores > 0\n",
    "    valid_scores = [(i+1, score) for i, score in enumerate(scores) if score > 0]\n",
    "    \n",
    "    # Trier par score en ordre décroissant\n",
    "    valid_scores.sort(key=lambda x: x[1], reverse=True)\n",
    "    \n",
    "    # Afficher les documents avec score > 0\n",
    "    if valid_scores:\n",
    "        print(\"Documents avec un score > 0 (triés par score décroissant) :\")\n",
    "        for doc_num, score in valid_scores:\n",
    "            print(f\"Document {doc_num} : {score}\")\n",
    "    else:\n",
    "        print(\"Aucun document avec un score > 0.\")\n",
    "    \n",
    "    # Trouver le document le plus pertinent\n",
    "    if len(scores) > 0 and max(scores) > score_min:\n",
    "        indice_max = scores.index(max(scores))\n",
    "        print(f\"\\nLe document le plus pertinent est le Document {indice_max+1} avec un score de {scores[indice_max]}\")\n",
    "    else:\n",
    "        print(\"\\nAucun document disponible pour évaluation ou score maximum inférieur à\", score_min)"
   ]
  },
  {
   "cell_type": "code",
   "execution_count": 91,
   "id": "783870cc",
   "metadata": {},
   "outputs": [],
   "source": [
    "#méthode illustrative de (Décomposition en valeurs singulières d'une matrice (SVD))\n",
    "def requete_SVD(matrice , k , q) : \n",
    "    U_k , Sk , V_tk = approximation_SVD(matrice, k)\n",
    "    resultat_requete_pertinence(q , matrice , U_k , Sk , V_tk , 0.8)\n",
    "    "
   ]
  },
  {
   "cell_type": "code",
   "execution_count": 92,
   "id": "afc9c4e3",
   "metadata": {},
   "outputs": [
    {
     "name": "stdout",
     "output_type": "stream",
     "text": [
      "---------------AFFICHAGE DE LA MATRICE---------------\n",
      "\n",
      "1 0 0 0 \n",
      "0 1 0 0 \n",
      "0 0 0 1 \n",
      "1 0 0 1 \n",
      "0 0 1 0 \n",
      "0 0 1 0 \n",
      "0 1 0 0 \n",
      "\n",
      "-------------TRAITEMENT---------------\n",
      "\n",
      "SCORE MIN : 0.8\n",
      "Documents avec un score > 0 (triés par score décroissant) :\n",
      "Document 1 : 1.0\n",
      "Document 4 : 0.5\n",
      "\n",
      "Le document le plus pertinent est le Document 1 avec un score de 1.0\n"
     ]
    }
   ],
   "source": [
    "#Test de la méthode : score_pertinence\n",
    "requete = \"Algèbre matrice\"\n",
    "vecteur_colonne = requete_vers_colonne(termes, requete)\n",
    "print(\"---------------AFFICHAGE DE LA MATRICE---------------\\n\")\n",
    "matrice = matrice_termes_documents(termes, documents)\n",
    "afficher_matrice(matrice)\n",
    "print(\"\\n-------------TRAITEMENT---------------\\n\")\n",
    "requete_SVD(matrice , 4 , vecteur_colonne)\n"
   ]
  },
  {
   "cell_type": "code",
   "execution_count": 93,
   "id": "48623051",
   "metadata": {},
   "outputs": [
    {
     "name": "stdout",
     "output_type": "stream",
     "text": [
      "\n",
      "---------------TRAVAIL DE LA REQUETE 1---------------\n",
      "\n",
      "SCORE MIN : 0.8\n",
      "Documents avec un score > 0 (triés par score décroissant) :\n",
      "Document 1 : 0.71\n",
      "Document 2 : 0.71\n",
      "Document 3 : 0.71\n",
      "Document 8 : 0.5\n",
      "\n",
      "Aucun document disponible pour évaluation ou score maximum inférieur à 0.8\n"
     ]
    }
   ],
   "source": [
    "#EXEMPLE 3 (REQUERTES DEJA PREPARES) :\n",
    "print(\"\\n---------------TRAVAIL DE LA REQUETE 1---------------\\n\")\n",
    "requete_SVD(matrice_exemple_3 , 6 , vecteur_colonne_exemple_3_1)"
   ]
  },
  {
   "cell_type": "code",
   "execution_count": 94,
   "id": "82f63dd0",
   "metadata": {},
   "outputs": [
    {
     "name": "stdout",
     "output_type": "stream",
     "text": [
      "\n",
      "---------------TRAVAIL DE LA REQUETE 2---------------\n",
      "\n",
      "SCORE MIN : 0.8\n",
      "Documents avec un score > 0 (triés par score décroissant) :\n",
      "Document 5 : 0.71\n",
      "Document 10 : 0.71\n",
      "Document 8 : 0.5\n",
      "\n",
      "Aucun document disponible pour évaluation ou score maximum inférieur à 0.8\n"
     ]
    }
   ],
   "source": [
    "#EXEMPLE 3 (REQUERTES DEJA PREPARES) :\n",
    "print(\"\\n---------------TRAVAIL DE LA REQUETE 2---------------\\n\")\n",
    "requete_SVD(matrice_exemple_3 , 6 , vecteur_colonne_exemple_3_2)"
   ]
  },
  {
   "cell_type": "markdown",
   "id": "cc621539",
   "metadata": {},
   "source": [
    "##### Accélération des calculs : Bidiagonalisation et méthode QR "
   ]
  },
  {
   "cell_type": "code",
   "execution_count": 95,
   "id": "508a8bea",
   "metadata": {},
   "outputs": [],
   "source": [
    "def bidiagonale(A):\n",
    "    m, n = A.shape\n",
    "    U = np.eye(m)  # Initialize orthogonal matrix U\n",
    "    V = np.eye(n)  # Initialize orthogonal matrix V\n",
    "    B = A.copy()   # Working copy of A\n",
    "\n",
    "    for k in range(min(m, n)):\n",
    "        # Apply Householder reflection on the left to zero out below diagonal\n",
    "        if k < m:\n",
    "            x = B[k:, k]\n",
    "            v = np.zeros_like(x)\n",
    "            v[0] = np.sign(x[0]) * np.linalg.norm(x) + x[0] if x[0] != 0 else np.linalg.norm(x)\n",
    "            v[1:] = x[1:]\n",
    "            beta = 2 / (v.T @ v) if v.T @ v != 0 else 0\n",
    "            H = np.eye(m - k) - beta * np.outer(v, v)\n",
    "            Q = np.eye(m)\n",
    "            Q[k:, k:] = H\n",
    "            B = Q @ B\n",
    "            U = U @ Q.T\n",
    "\n",
    "        if k < n - 1 and k + 1 < m:\n",
    "            x = B[k, k + 1:]\n",
    "            v = np.zeros_like(x)\n",
    "            v[0] = np.sign(x[0]) * np.linalg.norm(x) + x[0] if x[0] != 0 else np.linalg.norm(x)\n",
    "            v[1:] = x[1:]\n",
    "            beta = 2 / (v.T @ v) if v.T @ v != 0 else 0\n",
    "            H = np.eye(n - k - 1) - beta * np.outer(v, v)\n",
    "            P = np.eye(n)\n",
    "            P[k + 1:, k + 1:] = H\n",
    "            B = B @ P\n",
    "            V = V @ P.T\n",
    "\n",
    "    return U, B, V"
   ]
  },
  {
   "cell_type": "code",
   "execution_count": 96,
   "id": "d38b5839",
   "metadata": {},
   "outputs": [
    {
     "name": "stdout",
     "output_type": "stream",
     "text": [
      "Original matrix:\n",
      "[[0 0 0 ... 0 0 0]\n",
      " [0 1 0 ... 0 0 1]\n",
      " [0 1 0 ... 1 0 0]\n",
      " ...\n",
      " [0 1 0 ... 1 0 1]\n",
      " [0 0 1 ... 1 1 1]\n",
      " [0 0 0 ... 0 1 1]]\n",
      "\n",
      "Reconstructed matrix (U @ B @ V^T):\n",
      "[[ 2.41057174e-14  9.99200722e-15  5.80438475e-15 ...  8.43769499e-15\n",
      "   1.66533454e-15 -3.33066907e-15]\n",
      " [-1.28369537e-16  1.00000000e+00  7.60502772e-15 ...  3.53883589e-16\n",
      "  -2.47024623e-15  1.00000000e+00]\n",
      " [ 1.18828558e-16  1.00000000e+00 -1.09114107e-14 ...  1.00000000e+00\n",
      "   6.46704912e-15 -2.52575738e-15]\n",
      " ...\n",
      " [ 6.24500451e-17  1.00000000e+00 -1.44328993e-15 ...  1.00000000e+00\n",
      "   1.66533454e-15  1.00000000e+00]\n",
      " [ 1.87350135e-16  8.86790641e-15  1.00000000e+00 ...  1.00000000e+00\n",
      "   1.00000000e+00  1.00000000e+00]\n",
      " [ 8.06646416e-17  5.52335955e-15  3.46944695e-15 ...  8.18789481e-16\n",
      "   1.00000000e+00  1.00000000e+00]]\n",
      "\n",
      "Check norm of difference: 3.6978958532869535e-12\n"
     ]
    }
   ],
   "source": [
    "#Test de la méthode de Bidiagonalisation :\n",
    "A = np.random.randint(0, 2, size=(1000, 500))\n",
    "U, B, V = bidiagonale(A)\n",
    "\n",
    "print('Original matrix:')\n",
    "print(A)\n",
    "print('\\nReconstructed matrix (U @ B @ V^T):')\n",
    "print(U @ B @ V.T)\n",
    "print('\\nCheck norm of difference:', np.linalg.norm(A - U @ B @ V.T))"
   ]
  },
  {
   "cell_type": "code",
   "execution_count": 97,
   "id": "3226c2a5",
   "metadata": {},
   "outputs": [
    {
     "name": "stdout",
     "output_type": "stream",
     "text": [
      "Relative error: 7.394194732966113e-15\n"
     ]
    }
   ],
   "source": [
    "#Voir l'erreur relative \n",
    "print('Relative error:', np.linalg.norm(A - U @ B @ V.T) / np.linalg.norm(A))"
   ]
  },
  {
   "cell_type": "code",
   "execution_count": 98,
   "id": "c0a3051e",
   "metadata": {},
   "outputs": [
    {
     "name": "stdout",
     "output_type": "stream",
     "text": [
      "(1000, 500)\n"
     ]
    },
    {
     "data": {
      "text/plain": [
       "array([[-2.25969849e+01,  2.51558841e+02, -1.31747435e-14, ...,\n",
       "         4.83266562e-17, -1.11715613e-15, -1.39781067e-15],\n",
       "       [-4.60718379e-02,  2.48708126e+02,  1.45851607e+01, ...,\n",
       "        -3.57999522e-16,  1.33290604e-16, -1.73879133e-16],\n",
       "       [-1.85116196e-02, -1.58695900e-15, -1.54912520e+01, ...,\n",
       "        -1.72315583e-17,  1.72713271e-16,  1.75702371e-17],\n",
       "       ...,\n",
       "       [-3.33113915e-02,  1.76070678e-15, -1.41953539e-16, ...,\n",
       "        -1.29663728e-16, -5.19003028e-17,  2.22044605e-16],\n",
       "       [ 2.14720388e-02,  2.33684583e-15, -3.24496382e-17, ...,\n",
       "        -5.81328765e-18, -4.32379789e-17,  5.55111512e-17],\n",
       "       [-1.55535912e-02, -1.99673038e-15,  1.52225423e-17, ...,\n",
       "        -5.47960877e-18, -2.57130593e-17,  0.00000000e+00]],\n",
       "      shape=(1000, 500))"
      ]
     },
     "execution_count": 98,
     "metadata": {},
     "output_type": "execute_result"
    }
   ],
   "source": [
    "#Test des propriétés de la matrice bidiagonale :\n",
    "print(B.shape)\n",
    "B"
   ]
  },
  {
   "cell_type": "code",
   "execution_count": 99,
   "id": "1cd4b9a2",
   "metadata": {},
   "outputs": [],
   "source": [
    "def qr_decomposition(A):\n",
    "    \"\"\"\n",
    "    Performs QR decomposition of matrix A (n x m) using Gram-Schmidt.\n",
    "    Returns Q (n x m) with orthonormal columns and R (m x m) upper triangular\n",
    "    such that A = QR.\n",
    "    \"\"\"\n",
    "    n, m = A.shape\n",
    "    if n < m:\n",
    "        raise ValueError(\"Number of rows (n) must be >= number of columns (m).\")\n",
    "    \n",
    "    Q = np.zeros((n, m))\n",
    "    R = np.zeros((m, m))\n",
    "    \n",
    "    for j in range(m):\n",
    "        v = A[:, j].copy()  # Copy to avoid modifying original matrix\n",
    "        for i in range(j):\n",
    "            R[i, j] = np.dot(Q[:, i], A[:, j])\n",
    "            v -= R[i, j] * Q[:, i]\n",
    "        \n",
    "        R[j, j] = np.linalg.norm(v)\n",
    "        if R[j, j] < 1e-10:  # Avoid division by zero or near-zero\n",
    "            raise ValueError(f\"Matrix is rank-deficient at column {j}.\")\n",
    "        Q[:, j] = v / R[j, j]\n",
    "    \n",
    "    return Q, R"
   ]
  },
  {
   "cell_type": "code",
   "execution_count": 100,
   "id": "55be9b6f",
   "metadata": {},
   "outputs": [],
   "source": [
    "def optimized_qr_decomposition(A):\n",
    "    Q, R = qr(A, mode='full')\n",
    "    return Q, R"
   ]
  },
  {
   "cell_type": "code",
   "execution_count": 101,
   "id": "e3c44d70",
   "metadata": {},
   "outputs": [
    {
     "name": "stdout",
     "output_type": "stream",
     "text": [
      "Q: [[ 0.5 -0.5  0.5]\n",
      " [ 0.5  0.5 -0.5]\n",
      " [ 0.5  0.5  0.5]\n",
      " [ 0.5 -0.5 -0.5]]\n",
      "R: [[ 2.  3.  2.]\n",
      " [ 0.  5. -2.]\n",
      " [ 0.  0.  4.]]\n",
      "Check Q^T * Q = I: True\n",
      "Check A = QR: True\n"
     ]
    }
   ],
   "source": [
    "#test de la méthode qr_decomposition : Normalement\n",
    "A = np.array([[1, -1, 4], [1, 4, -2], [1, 4, 2], [1, -1, 0]], dtype=float)  # Ensure A is of type float\n",
    "Q, R = qr_decomposition(A)\n",
    "print(\"Q:\", Q)\n",
    "print(\"R:\", R)\n",
    "print(\"Check Q^T * Q = I:\", np.allclose(Q.T @ Q, np.eye(Q.shape[1])))\n",
    "print(\"Check A = QR:\", np.allclose(A, Q @ R))"
   ]
  },
  {
   "cell_type": "code",
   "execution_count": 102,
   "id": "398d5120",
   "metadata": {},
   "outputs": [],
   "source": [
    "\n",
    "def qr_bidiagonal(B, U_bidiag, V_bidiag, max_iter=100, tol=1e-10):\n",
    "    \"\"\"\n",
    "    Calcule la décomposition SVD d'une matrice bidiagonale B à partir de U_bidiag et V_bidiag.\n",
    "    \n",
    "    Args:\n",
    "        B: Matrice bidiagonale (m × n).\n",
    "        U_bidiag: Matrice U initiale de la bidiagonalisation (m × m).\n",
    "        V_bidiag: Matrice V initiale de la bidiagonalisation (n × n).\n",
    "        max_iter: Nombre maximum d'itérations.\n",
    "        tol: Tolérance pour la convergence.\n",
    "    \n",
    "    Returns:\n",
    "        U, S, Vt: Matrices de la SVD telles que A ≈ U @ S @ Vt.\n",
    "    \"\"\"\n",
    "    m, n = B.shape\n",
    "    p = min(m, n)\n",
    "    Bk = B.copy()\n",
    "    U = U_bidiag.copy()\n",
    "    V = V_bidiag.copy()\n",
    "    \n",
    "    for k in range(max_iter):\n",
    "        # QR decomposition de Bk.T @ Bk (implicitement via Golub-Kahan)\n",
    "        Q, R = np.linalg.qr(Bk.T @ Bk)\n",
    "        V = V @ Q\n",
    "        Bk = Bk @ Q\n",
    "        \n",
    "        # QR decomposition de Bk\n",
    "        Q, R = np.linalg.qr(Bk)\n",
    "        U = U @ Q\n",
    "        Bk = R\n",
    "        \n",
    "        # Vérifier la convergence (éléments super-diagonaux)\n",
    "        off_diag = np.diag(Bk, k=1)\n",
    "        if np.all(np.abs(off_diag) < tol * np.linalg.norm(Bk, 'fro')):\n",
    "            break\n",
    "    \n",
    "    # Extraire les valeurs singulières (diagonale de Bk)\n",
    "    S = np.zeros((m, n))\n",
    "    s = np.diag(Bk)\n",
    "    for i in range(min(m, n)):\n",
    "        S[i, i] = abs(s[i])\n",
    "    \n",
    "    # Assurer que les valeurs singulières sont dans l'ordre décroissant\n",
    "    idx = np.argsort(s)[::-1]\n",
    "    S = np.diag(np.sort(s)[::-1])\n",
    "    U = U[:, idx]\n",
    "    V = V[:, idx]\n",
    "    \n",
    "    return U, S, V.T"
   ]
  },
  {
   "cell_type": "code",
   "execution_count": 103,
   "id": "6a3b2efa",
   "metadata": {},
   "outputs": [
    {
     "name": "stdout",
     "output_type": "stream",
     "text": [
      "U shape: (1000, 500)\n",
      "S shape: (500, 500)\n",
      "Vt shape: (500, 500)\n",
      "Check A ≈ U @ S @ Vt: False\n",
      "Relative error: 0.044458759432244394\n",
      "Check orthogonality of U: True\n",
      "Check orthogonality of Vt: True\n"
     ]
    }
   ],
   "source": [
    "#Test de la méthode qr_bidiagonal :\n",
    "A = np.random.randint(0, 2, size=(1000, 500))\n",
    "U_bidiag, B, V_bidiag = bidiagonale(A)\n",
    "U, S, Vt = qr_bidiagonal(B, U_bidiag, V_bidiag, max_iter=100, tol=1e-10)\n",
    "print(\"U shape:\", U.shape)\n",
    "print(\"S shape:\", S.shape)\n",
    "print(\"Vt shape:\", Vt.shape)\n",
    "print(\"Check A ≈ U @ S @ Vt:\", np.allclose(A, U @ S @ Vt))\n",
    "print(\"Relative error:\", np.linalg.norm(A - U @ S @ Vt) / np.linalg.norm(A))\n",
    "print(\"Check orthogonality of U:\", np.allclose(U.T @ U, np.eye(U.shape[1])))\n",
    "print(\"Check orthogonality of Vt:\", np.allclose(Vt @ Vt.T, np.eye(Vt.shape[0])))"
   ]
  },
  {
   "cell_type": "markdown",
   "id": "72fb6fac",
   "metadata": {},
   "source": [
    "Remarque : la méthode de bidiagonalisation + QR est supposé faite pour optimiser les calculs de SVD , cependant le temps d'éxécution est très couteux lors de l'implémentation de l'algorithme qr_bidiagonal pour des raisons multiples : les boucles long et surtout le nombre d'opérations des calculs des produits matricielle . ce qui rend la complexité de cet algorithme est très importante meme si il affiche des pourcentages acceptables en erreur relatif (< 1%)"
   ]
  },
  {
   "cell_type": "code",
   "execution_count": 104,
   "id": "8420921b",
   "metadata": {},
   "outputs": [],
   "source": [
    "def bidiagonale_qr(A):\n",
    "    U,B,V = bidiagonale(A)\n",
    "    U_test, Sk, V_t_test = qr_bidiagonal(B, U, V)\n",
    "    return U_test, Sk, V_t_test"
   ]
  },
  {
   "cell_type": "code",
   "execution_count": 105,
   "id": "90060b20",
   "metadata": {},
   "outputs": [
    {
     "name": "stdout",
     "output_type": "stream",
     "text": [
      "Matrice bidiagonale B:\n",
      " [[-1.28562874e+01  2.17059822e+01  3.59463148e-15]\n",
      " [-7.92790225e-01  3.53111715e+00  6.02293244e-01]\n",
      " [ 2.95562686e-01 -3.31660586e-16  1.37075856e-01]\n",
      " [-3.23014411e-16  6.11166691e-17  4.01722768e-18]]\n",
      "\n",
      "Valeurs singulières calculées: [ 1.29066168e+00  1.42555560e-16 -2.54624074e+01]\n",
      "\n",
      "Valeurs singulières NumPy: [2.54624074e+01 1.29066168e+00 2.40694596e-15]\n",
      "\n",
      "Erreur de reconstitution: 6.546295124979328e-11\n",
      "\n",
      "Matrice originale A:\n",
      " [[ 1  2  3]\n",
      " [ 4  5  6]\n",
      " [ 7  8  9]\n",
      " [10 11 12]]\n",
      "\n",
      "Matrice reconstruite U_test @ Sk @ V_t_test:\n",
      " [[ 1.  2.  3.]\n",
      " [ 4.  5.  6.]\n",
      " [ 7.  8.  9.]\n",
      " [10. 11. 12.]]\n"
     ]
    }
   ],
   "source": [
    "# Matrice de test\n",
    "A = np.array([[1, 2, 3], [4, 5, 6], [7, 8, 9], [10, 11, 12]])\n",
    "\n",
    "# Étape 1: Bidiagonalisation\n",
    "U, B, V = bidiagonale(A)\n",
    "print(\"Matrice bidiagonale B:\\n\", B)\n",
    "\n",
    "# Étape 2: Algorithme QR pour B\n",
    "U_test, Sk, V_t_test = qr_bidiagonal(B, U, V)\n",
    "print(\"\\nValeurs singulières calculées:\", np.diag(Sk))\n",
    "\n",
    "# Comparaison avec la SVD de NumPy\n",
    "U_numpy, s_numpy, Vt_numpy = np.linalg.svd(A, full_matrices=False)\n",
    "print(\"\\nValeurs singulières NumPy:\", s_numpy)\n",
    "\n",
    "\n",
    "# Vérifier que A ≈ U_test @ Sk @ V_t_test\n",
    "A_reconstitue = U_test @ Sk @ V_t_test\n",
    "print(\"\\nErreur de reconstitution:\", np.linalg.norm(A - A_reconstitue) / np.linalg.norm(A))\n",
    "\n",
    "# Comparer les produits\n",
    "print(\"\\nMatrice originale A:\\n\", A)\n",
    "print(\"\\nMatrice reconstruite U_test @ Sk @ V_t_test:\\n\", A_reconstitue)"
   ]
  },
  {
   "cell_type": "code",
   "execution_count": 106,
   "id": "d7ee968a",
   "metadata": {},
   "outputs": [],
   "source": [
    "def approximation_k (k , U_k , Sk , V_tk) :\n",
    "    return U_k[:, :k], Sk[:k, :k], V_tk[:k, :]"
   ]
  },
  {
   "cell_type": "code",
   "execution_count": 107,
   "id": "c99e3e6c",
   "metadata": {},
   "outputs": [],
   "source": [
    "def requete_qr_bidiagonale(matrice ,k , q) : \n",
    "\n",
    "    U , B , V = bidiagonale(matrice)\n",
    "    U_bdiag , S_bdiag , V_tbdiag = qr_bidiagonal(B , U ,V)\n",
    "    U_k , Sk , V_tk = approximation_k(k , U_bdiag , S_bdiag , V_tbdiag)\n",
    "    resultat_requete_pertinence(q , matrice , U_k , Sk , V_tk , 0.8)"
   ]
  },
  {
   "cell_type": "code",
   "execution_count": 108,
   "id": "53d8694b",
   "metadata": {},
   "outputs": [
    {
     "name": "stdout",
     "output_type": "stream",
     "text": [
      "---------------AFFICHAGE DE LA MATRICE---------------\n",
      "\n",
      "1 0 0 0 \n",
      "0 1 0 0 \n",
      "0 0 0 1 \n",
      "1 0 0 1 \n",
      "0 0 1 0 \n",
      "0 0 1 0 \n",
      "0 1 0 0 \n",
      "\n",
      "-------------TRAITEMENT---------------\n",
      "\n",
      "SCORE MIN : 0.8\n",
      "Documents avec un score > 0 (triés par score décroissant) :\n",
      "Document 1 : 1.0\n",
      "Document 4 : 0.5\n",
      "\n",
      "Le document le plus pertinent est le Document 1 avec un score de 1.0\n"
     ]
    }
   ],
   "source": [
    "# EXEMPLE 1 :\n",
    "requete = \"Algèbre matrice\"\n",
    "vecteur_colonne = requete_vers_colonne(termes, requete)\n",
    "print(\"---------------AFFICHAGE DE LA MATRICE---------------\\n\")\n",
    "matrice = matrice_termes_documents(termes, documents)\n",
    "afficher_matrice(matrice)\n",
    "print(\"\\n-------------TRAITEMENT---------------\\n\")\n",
    "requete_qr_bidiagonale(matrice, 4, vecteur_colonne)\n"
   ]
  },
  {
   "cell_type": "code",
   "execution_count": 109,
   "id": "486d7aa1",
   "metadata": {},
   "outputs": [
    {
     "name": "stdout",
     "output_type": "stream",
     "text": [
      "\n",
      "---------------TRAVAIL DE LA REQUETE 1---------------\n",
      "\n",
      "SCORE MIN : 0.8\n",
      "Documents avec un score > 0 (triés par score décroissant) :\n",
      "Document 1 : 0.71\n",
      "Document 2 : 0.71\n",
      "Document 3 : 0.71\n",
      "Document 5 : 0.71\n",
      "Document 8 : 0.71\n",
      "Document 10 : 0.71\n",
      "\n",
      "Aucun document disponible pour évaluation ou score maximum inférieur à 0.8\n"
     ]
    }
   ],
   "source": [
    "#EXEMPLE 3 (REQUERTES DEJA PREPARES) :\n",
    "print(\"\\n---------------TRAVAIL DE LA REQUETE 1---------------\\n\")\n",
    "requete_qr_bidiagonale(matrice_exemple_3 , 10, vecteur_colonne_exemple_3_1)"
   ]
  },
  {
   "cell_type": "code",
   "execution_count": 110,
   "id": "1ebd7d7e",
   "metadata": {},
   "outputs": [
    {
     "name": "stdout",
     "output_type": "stream",
     "text": [
      "\n",
      "---------------TRAVAIL DE LA REQUETE 2---------------\n",
      "\n",
      "SCORE MIN : 0.8\n",
      "Documents avec un score > 0 (triés par score décroissant) :\n",
      "Document 2 : 0.71\n",
      "Document 5 : 0.71\n",
      "Document 8 : 0.71\n",
      "\n",
      "Aucun document disponible pour évaluation ou score maximum inférieur à 0.8\n"
     ]
    }
   ],
   "source": [
    "#EXEMPLE 3 (REQUERTES DEJA PREPARES) :\n",
    "print(\"\\n---------------TRAVAIL DE LA REQUETE 2---------------\\n\")\n",
    "requete_qr_bidiagonale(matrice_exemple_3 , 5 , vecteur_colonne_exemple_3_2)"
   ]
  },
  {
   "cell_type": "markdown",
   "id": "3a3a2842",
   "metadata": {},
   "source": [
    "#### Variation du rang k et ses effets au  termes de classification des documents par score de pertinence , erreur de reconstruction "
   ]
  },
  {
   "cell_type": "markdown",
   "id": "98d89cd4",
   "metadata": {},
   "source": [
    "##### 1) Approche SVD"
   ]
  },
  {
   "cell_type": "code",
   "execution_count": 111,
   "id": "f6b0d877",
   "metadata": {},
   "outputs": [
    {
     "name": "stdout",
     "output_type": "stream",
     "text": [
      "Pour k =  1\n",
      "SCORE MIN : 0.8\n",
      "Documents avec un score > 0 (triés par score décroissant) :\n",
      "Document 1 : 1.0\n",
      "Document 4 : 1.0\n",
      "\n",
      "Le document le plus pertinent est le Document 1 avec un score de 1.0\n",
      "\n",
      "----------------------------------------------------\n",
      "\n",
      "Pour k =  2\n",
      "SCORE MIN : 0.8\n",
      "Documents avec un score > 0 (triés par score décroissant) :\n",
      "Document 1 : 1.0\n",
      "Document 4 : 1.0\n",
      "\n",
      "Le document le plus pertinent est le Document 1 avec un score de 1.0\n",
      "\n",
      "----------------------------------------------------\n",
      "\n",
      "Pour k =  3\n",
      "SCORE MIN : 0.8\n",
      "Documents avec un score > 0 (triés par score décroissant) :\n",
      "Document 1 : 1.0\n",
      "Document 4 : 1.0\n",
      "\n",
      "Le document le plus pertinent est le Document 1 avec un score de 1.0\n",
      "\n",
      "----------------------------------------------------\n",
      "\n",
      "Pour k =  4\n",
      "SCORE MIN : 0.8\n",
      "Documents avec un score > 0 (triés par score décroissant) :\n",
      "Document 1 : 1.0\n",
      "Document 4 : 0.5\n",
      "\n",
      "Le document le plus pertinent est le Document 1 avec un score de 1.0\n",
      "\n",
      "----------------------------------------------------\n",
      "\n"
     ]
    }
   ],
   "source": [
    "# variations de rang k avec k << min(Nt , Nd)\n",
    "# EXEMPLE 1 : \n",
    "max_k = min(matrice.shape)\n",
    "\n",
    "for k in range (1 , max_k + 1) : \n",
    "    print(\"Pour k = \" , k)\n",
    "    requete_SVD(matrice , k , vecteur_colonne)\n",
    "    print(\"\\n----------------------------------------------------\\n\")"
   ]
  },
  {
   "cell_type": "code",
   "execution_count": 112,
   "id": "8c53cb14",
   "metadata": {},
   "outputs": [
    {
     "name": "stdout",
     "output_type": "stream",
     "text": [
      "Pour k =  1\n",
      "SCORE MIN : 0.8\n",
      "Documents avec un score > 0 (triés par score décroissant) :\n",
      "Document 2 : 1.0\n",
      "Document 8 : 1.0\n",
      "Document 10 : 1.0\n",
      "\n",
      "Le document le plus pertinent est le Document 2 avec un score de 1.0\n",
      "\n",
      "----------------------------------------------------\n",
      "\n",
      "Pour k =  2\n",
      "SCORE MIN : 0.8\n",
      "Documents avec un score > 0 (triés par score décroissant) :\n",
      "Document 1 : 0.82\n",
      "Document 3 : 0.82\n",
      "Document 2 : 0.58\n",
      "Document 8 : 0.58\n",
      "Document 10 : 0.58\n",
      "\n",
      "Le document le plus pertinent est le Document 1 avec un score de 0.82\n",
      "\n",
      "----------------------------------------------------\n",
      "\n",
      "Pour k =  3\n",
      "SCORE MIN : 0.8\n",
      "Documents avec un score > 0 (triés par score décroissant) :\n",
      "Document 1 : 0.82\n",
      "Document 3 : 0.82\n",
      "Document 2 : 0.58\n",
      "Document 8 : 0.58\n",
      "Document 10 : 0.58\n",
      "\n",
      "Le document le plus pertinent est le Document 1 avec un score de 0.82\n",
      "\n",
      "----------------------------------------------------\n",
      "\n",
      "Pour k =  4\n",
      "SCORE MIN : 0.8\n",
      "Documents avec un score > 0 (triés par score décroissant) :\n",
      "Document 1 : 0.82\n",
      "Document 3 : 0.82\n",
      "Document 2 : 0.58\n",
      "Document 8 : 0.58\n",
      "Document 10 : 0.58\n",
      "\n",
      "Le document le plus pertinent est le Document 1 avec un score de 0.82\n",
      "\n",
      "----------------------------------------------------\n",
      "\n",
      "Pour k =  5\n",
      "SCORE MIN : 0.8\n",
      "Documents avec un score > 0 (triés par score décroissant) :\n",
      "Document 1 : 0.82\n",
      "Document 3 : 0.82\n",
      "Document 2 : 0.58\n",
      "Document 8 : 0.58\n",
      "Document 10 : 0.58\n",
      "\n",
      "Le document le plus pertinent est le Document 1 avec un score de 0.82\n",
      "\n",
      "----------------------------------------------------\n",
      "\n",
      "Pour k =  6\n",
      "SCORE MIN : 0.8\n",
      "Documents avec un score > 0 (triés par score décroissant) :\n",
      "Document 1 : 0.71\n",
      "Document 2 : 0.71\n",
      "Document 3 : 0.71\n",
      "Document 8 : 0.5\n",
      "\n",
      "Aucun document disponible pour évaluation ou score maximum inférieur à 0.8\n",
      "\n",
      "----------------------------------------------------\n",
      "\n"
     ]
    }
   ],
   "source": [
    "# variations de rang k avec k << min(Nt , Nd)\n",
    "# EXEMPLE 3 Requete 1 : \n",
    "max_k = min(matrice_exemple_3.shape)\n",
    "\n",
    "for k in range (1 , max_k + 1) : \n",
    "    print(\"Pour k = \" , k)\n",
    "    requete_SVD(matrice_exemple_3 , k , vecteur_colonne_exemple_3_1)\n",
    "    print(\"\\n----------------------------------------------------\\n\")"
   ]
  },
  {
   "cell_type": "code",
   "execution_count": 113,
   "id": "7b54d382",
   "metadata": {},
   "outputs": [
    {
     "name": "stdout",
     "output_type": "stream",
     "text": [
      "Pour k =  1\n",
      "SCORE MIN : 0.8\n",
      "Documents avec un score > 0 (triés par score décroissant) :\n",
      "Document 2 : 1.0\n",
      "Document 8 : 1.0\n",
      "Document 10 : 1.0\n",
      "\n",
      "Le document le plus pertinent est le Document 2 avec un score de 1.0\n",
      "\n",
      "----------------------------------------------------\n",
      "\n",
      "Pour k =  2\n",
      "SCORE MIN : 0.8\n",
      "Documents avec un score > 0 (triés par score décroissant) :\n",
      "Document 2 : 1.0\n",
      "Document 8 : 1.0\n",
      "Document 10 : 1.0\n",
      "\n",
      "Le document le plus pertinent est le Document 2 avec un score de 1.0\n",
      "\n",
      "----------------------------------------------------\n",
      "\n",
      "Pour k =  3\n",
      "SCORE MIN : 0.8\n",
      "Documents avec un score > 0 (triés par score décroissant) :\n",
      "Document 5 : 0.82\n",
      "Document 2 : 0.58\n",
      "Document 8 : 0.58\n",
      "Document 10 : 0.58\n",
      "\n",
      "Le document le plus pertinent est le Document 5 avec un score de 0.82\n",
      "\n",
      "----------------------------------------------------\n",
      "\n",
      "Pour k =  4\n",
      "SCORE MIN : 0.8\n",
      "Documents avec un score > 0 (triés par score décroissant) :\n",
      "Document 5 : 0.82\n",
      "Document 2 : 0.58\n",
      "Document 8 : 0.58\n",
      "Document 10 : 0.58\n",
      "\n",
      "Le document le plus pertinent est le Document 5 avec un score de 0.82\n",
      "\n",
      "----------------------------------------------------\n",
      "\n",
      "Pour k =  5\n",
      "SCORE MIN : 0.8\n",
      "Documents avec un score > 0 (triés par score décroissant) :\n",
      "Document 5 : 0.82\n",
      "Document 2 : 0.58\n",
      "Document 8 : 0.58\n",
      "Document 10 : 0.58\n",
      "\n",
      "Le document le plus pertinent est le Document 5 avec un score de 0.82\n",
      "\n",
      "----------------------------------------------------\n",
      "\n",
      "Pour k =  6\n",
      "SCORE MIN : 0.8\n",
      "Documents avec un score > 0 (triés par score décroissant) :\n",
      "Document 5 : 0.71\n",
      "Document 10 : 0.71\n",
      "Document 8 : 0.5\n",
      "\n",
      "Aucun document disponible pour évaluation ou score maximum inférieur à 0.8\n",
      "\n",
      "----------------------------------------------------\n",
      "\n"
     ]
    }
   ],
   "source": [
    "# variations de rang k avec k << min(Nt , Nd)\n",
    "# EXEMPLE 3 Requete 2 : \n",
    "max_k = min(matrice_exemple_3.shape)\n",
    "\n",
    "for k in range (1 , max_k + 1) : \n",
    "    print(\"Pour k = \" , k)\n",
    "    requete_SVD(matrice_exemple_3 , k , vecteur_colonne_exemple_3_2)\n",
    "    print(\"\\n----------------------------------------------------\\n\")"
   ]
  },
  {
   "cell_type": "code",
   "execution_count": 114,
   "id": "aa2ad3a8",
   "metadata": {},
   "outputs": [
    {
     "name": "stdout",
     "output_type": "stream",
     "text": [
      "Norme d'erreur ||D - Dk||2: 1.414213562373095\n"
     ]
    }
   ],
   "source": [
    "# La norme d'erreur ||D - Dk ||2 : test avant la méthode\n",
    "U , S , V = decomposition_SVD(matrice)\n",
    "D = U @ np.diag(S) @ V\n",
    "Uk , Sk , Vk = approximation_SVD(matrice , 1)\n",
    "Uk.shape , Sk.shape , Vk.shape\n",
    "Dk = Uk @ Sk @ Vk\n",
    "\n",
    "# Calcul de la norme d'erreur\n",
    "\n",
    "norme_erreur = np.linalg.norm(D - Dk, ord=2)\n",
    "print(\"Norme d'erreur ||D - Dk||2:\", norme_erreur)"
   ]
  },
  {
   "cell_type": "code",
   "execution_count": 115,
   "id": "3854e050",
   "metadata": {},
   "outputs": [],
   "source": [
    "def norme_erreur_svd(matrice , k) : \n",
    "    U , S , V = decomposition_SVD(matrice)\n",
    "    D = U @ np.diag(S) @ V\n",
    "    Uk , Sk , Vk = approximation_SVD(matrice , k)\n",
    "    Dk = Uk @ Sk @ Vk\n",
    "    norme_erreur = np.linalg.norm(D - Dk, ord=2)\n",
    "    return norme_erreur"
   ]
  },
  {
   "cell_type": "code",
   "execution_count": 116,
   "id": "02242ae9",
   "metadata": {},
   "outputs": [],
   "source": [
    "def plot_norme_erreur(matrice, max_k):\n",
    "    if max_k is None:\n",
    "        max_k = min(matrice.shape)\n",
    "    erreurs = []\n",
    "    for k in range(1, max_k + 1):\n",
    "        erreur = norme_erreur_svd(matrice, k)\n",
    "        erreurs.append(erreur)\n",
    "    \n",
    "    plt.figure(figsize=(10, 6))\n",
    "    plt.plot(range(1, max_k + 1), erreurs, 'bo-', linewidth=2)\n",
    "    plt.title('Norme d\\'erreur ||D - Dk||₂ en fonction de k')\n",
    "    plt.xlabel('Nombre de valeurs singulières conservées (k)')\n",
    "    plt.ylabel('Norme d\\'erreur ||D - Dk||₂')\n",
    "    plt.grid(True)\n",
    "    plt.yscale('log')  # Échelle logarithmique pour mieux visualiser la décroissance\n",
    "    plt.tight_layout()\n",
    "    plt.show()"
   ]
  },
  {
   "cell_type": "code",
   "execution_count": 117,
   "id": "ded2a110",
   "metadata": {},
   "outputs": [
    {
     "data": {
      "image/png": "[encoded data removed]",
      "text/plain": [
       "<Figure size 1000x600 with 1 Axes>"
      ]
     },
     "metadata": {},
     "output_type": "display_data"
    }
   ],
   "source": [
    "plot_norme_erreur(matrice , None)"
   ]
  },
  {
   "cell_type": "code",
   "execution_count": 118,
   "id": "fbf8bf66",
   "metadata": {},
   "outputs": [
    {
     "data": {
      "image/png": "[encoded data removed]",
      "text/plain": [
       "<Figure size 1000x600 with 1 Axes>"
      ]
     },
     "metadata": {},
     "output_type": "display_data"
    }
   ],
   "source": [
    "plot_norme_erreur(matrice_exemple_3, None)"
   ]
  },
  {
   "cell_type": "code",
   "execution_count": 119,
   "id": "6ef520db",
   "metadata": {},
   "outputs": [
    {
     "data": {
      "image/png": "[encoded data removed]",
      "text/plain": [
       "<Figure size 1000x600 with 1 Axes>"
      ]
     },
     "metadata": {},
     "output_type": "display_data"
    }
   ],
   "source": [
    "#Matrice aléatoire de test : \n",
    "np.random.seed(42)\n",
    "m, n = 20, 15\n",
    "matrice_alea = np.random.rand(m, n)\n",
    "    \n",
    "erreurs = plot_norme_erreur(matrice_alea , 15)\n",
    "    "
   ]
  },
  {
   "cell_type": "code",
   "execution_count": 120,
   "id": "b1958e15",
   "metadata": {},
   "outputs": [],
   "source": [
    "# Norme d'erreur en pour bidiagonalisation + QR\n",
    "def norme_erreur_bidiagonale_qr(D , k):\n",
    "    U , B , V = bidiagonale(D)\n",
    "    U_bdiag , S_bdiag , V_tbdiag = qr_bidiagonal(B , U ,V)\n",
    "    U_k , Sk , V_tk = approximation_k(k , U_bdiag , S_bdiag , V_tbdiag)\n",
    "    Dk = U_k @ Sk @ V_tk\n",
    "    return np.linalg.norm(D - Dk, ord=2)\n",
    "    "
   ]
  },
  {
   "cell_type": "code",
   "execution_count": 121,
   "id": "61b83476",
   "metadata": {},
   "outputs": [],
   "source": [
    "def plot_norme_erreur_bidiagonale_qr(matrice, max_k):\n",
    "    if max_k is None:\n",
    "        max_k = min(matrice.shape)\n",
    "    erreurs = []\n",
    "    for k in range(1, max_k + 1):\n",
    "        erreur = norme_erreur_bidiagonale_qr(matrice, k)\n",
    "        erreurs.append(erreur)\n",
    "    \n",
    "    plt.figure(figsize=(10, 6))\n",
    "    plt.plot(range(1, max_k + 1), erreurs, 'bo-', linewidth=2)\n",
    "    plt.title('Norme d\\'erreur ||D - Dk||₂ en fonction de k (Bidiagonalisation + QR)')\n",
    "    plt.xlabel('Nombre de valeurs singulières conservées (k)')\n",
    "    plt.ylabel('Norme d\\'erreur ||D - Dk||₂')\n",
    "    plt.grid(True)\n",
    "    plt.yscale('log')  # Échelle logarithmique pour mieux visualiser la décroissance\n",
    "    plt.tight_layout()\n",
    "    plt.show()  "
   ]
  },
  {
   "cell_type": "code",
   "execution_count": 122,
   "id": "4174dcae",
   "metadata": {},
   "outputs": [
    {
     "data": {
      "image/png": "[encoded data removed]",
      "text/plain": [
       "<Figure size 1000x600 with 1 Axes>"
      ]
     },
     "metadata": {},
     "output_type": "display_data"
    }
   ],
   "source": [
    "# Test de la norme d'erreur EXEMPLE 1\n",
    "plot_norme_erreur_bidiagonale_qr(matrice , None)"
   ]
  },
  {
   "cell_type": "code",
   "execution_count": 123,
   "id": "21dc5214",
   "metadata": {},
   "outputs": [
    {
     "data": {
      "image/png": "[encoded data removed]",
      "text/plain": [
       "<Figure size 1000x600 with 1 Axes>"
      ]
     },
     "metadata": {},
     "output_type": "display_data"
    }
   ],
   "source": [
    "# Test de la norme d'erreur EXEMPLE 3\n",
    "plot_norme_erreur_bidiagonale_qr(matrice_exemple_3 , None)"
   ]
  },
  {
   "cell_type": "code",
   "execution_count": 124,
   "id": "a3996e26",
   "metadata": {},
   "outputs": [
    {
     "data": {
      "image/png": "[encoded data removed]",
      "text/plain": [
       "<Figure size 1000x600 with 1 Axes>"
      ]
     },
     "metadata": {},
     "output_type": "display_data"
    }
   ],
   "source": [
    "# Matrice aléatoire de test :\n",
    "#Matrice aléatoire de test : \n",
    "np.random.seed(42)\n",
    "m, n = 20, 15\n",
    "#Creer une matrice aléa D contenant que des 0 et 1\n",
    "\n",
    "matrice_alea = np.random.randint(0, 2, size=(m, n))\n",
    "    \n",
    "erreurs = plot_norme_erreur_bidiagonale_qr(matrice_alea , 15)\n",
    "    "
   ]
  },
  {
   "cell_type": "markdown",
   "id": "c9170187",
   "metadata": {},
   "source": [
    "##### Comparaison des résultats de l'exemple 3"
   ]
  },
  {
   "cell_type": "code",
   "execution_count": 125,
   "id": "c124f8a2",
   "metadata": {},
   "outputs": [
    {
     "name": "stdout",
     "output_type": "stream",
     "text": [
      "SCORE MIN : 0.8\n",
      "Documents avec un score > 0 (triés par score décroissant) :\n",
      "Document 1 : 0.71\n",
      "Document 2 : 0.71\n",
      "Document 3 : 0.71\n",
      "Document 5 : 0.71\n",
      "Document 8 : 0.71\n",
      "Document 10 : 0.71\n",
      "\n",
      "Aucun document disponible pour évaluation ou score maximum inférieur à 0.8\n"
     ]
    }
   ],
   "source": [
    "requete_qr_bidiagonale(matrice_exemple_3 , 10, vecteur_colonne_exemple_3_1)"
   ]
  },
  {
   "cell_type": "code",
   "execution_count": 126,
   "id": "a7be40d7",
   "metadata": {},
   "outputs": [
    {
     "name": "stdout",
     "output_type": "stream",
     "text": [
      "SCORE MIN : 0.8\n",
      "Documents avec un score > 0 (triés par score décroissant) :\n",
      "Document 1 : 0.71\n",
      "Document 2 : 0.71\n",
      "Document 3 : 0.71\n",
      "Document 8 : 0.5\n",
      "\n",
      "Aucun document disponible pour évaluation ou score maximum inférieur à 0.8\n"
     ]
    }
   ],
   "source": [
    "requete_SVD(matrice_exemple_3 , 10, vecteur_colonne_exemple_3_1)"
   ]
  },
  {
   "cell_type": "code",
   "execution_count": 127,
   "id": "81ac9f3a",
   "metadata": {},
   "outputs": [
    {
     "name": "stdout",
     "output_type": "stream",
     "text": [
      "Document 1 : 0.71\n",
      "Document 2 : 0.71\n",
      "Document 3 : 0.71\n",
      "Document 8 : 0.5\n",
      "\n",
      "Aucun document disponible pour évaluation ou score insuffisant\n"
     ]
    }
   ],
   "source": [
    "resultat_requete(matrice_exemple_3, vecteur_colonne_exemple_3_1, score_min = 0.8)"
   ]
  },
  {
   "cell_type": "markdown",
   "id": "76c7566a",
   "metadata": {},
   "source": [
    "#### Variation de nb Matrice termes-documents et résultats sur le temps d'éxécution"
   ]
  },
  {
   "cell_type": "code",
   "execution_count": 128,
   "id": "c7b13384",
   "metadata": {},
   "outputs": [],
   "source": [
    "\n",
    "\n",
    "# Mesure et traçage des temps d'exécution\n",
    "def plot_execution_time(functions):\n",
    "    # Valeurs de Nd (5, 10, ..., 200)\n",
    "    Nd_values = np.arange(5, 205, 5)\n",
    "    execution_times = {func.__name__: [] for func in functions}\n",
    "    valid_Nd = []\n",
    "    \n",
    "    # Mesurer le temps pour chaque Nd\n",
    "    for Nd in Nd_values:\n",
    "        # Calculer Nt = 3 * Nd\n",
    "        Nt = 3 * Nd\n",
    "        # Créer une matrice de zéros de taille Nt x Nd\n",
    "        try:\n",
    "            matrice = np.zeros((Nt, Nd))\n",
    "            valid = True\n",
    "            times = {}\n",
    "            \n",
    "            # Tester chaque fonction\n",
    "            for func in functions:\n",
    "                start_time = time.time()\n",
    "                result = func(matrice)\n",
    "                end_time = time.time()\n",
    "                \n",
    "                if result is not None:\n",
    "                    execution_time = end_time - start_time\n",
    "                    times[func.__name__] = execution_time\n",
    "                else:\n",
    "                    print(f\"Échec de {func.__name__} pour Nd={Nd}, Nt={Nt}\")\n",
    "                    valid = False\n",
    "                    break\n",
    "            \n",
    "            # Enregistrer les temps si toutes les fonctions ont réussi\n",
    "            if valid:\n",
    "                for func in functions:\n",
    "                    execution_times[func.__name__].append(times[func.__name__])\n",
    "                valid_Nd.append(Nd)\n",
    "        except Exception as e:\n",
    "            print(f\"Erreur pour Nd={Nd}, Nt={Nt} : {e}\")\n",
    "            continue\n",
    "    \n",
    "    if not valid_Nd:\n",
    "        print(\"Aucune mesure valide n'a été enregistrée.\")\n",
    "        return\n",
    "    \n",
    "    # Créer le graphique\n",
    "    plt.figure(figsize=(12, 7))\n",
    "    colors = ['b', 'r', 'g']\n",
    "    for i, func in enumerate(functions):\n",
    "        plt.plot(valid_Nd, execution_times[func.__name__], f'{colors[i]}-o', \n",
    "                label=f'{func.__name__}')\n",
    "    plt.xlabel('Nd (Nb colonnes)')\n",
    "    plt.ylabel('Temps d\\'exécution (secondes)')\n",
    "    plt.title('Comparaison des temps d\\'exécution de trois fonctions SVD (Nt = 3*Nd)')\n",
    "    plt.grid(True)\n",
    "    plt.legend()\n",
    "    \n",
    "    # Sauvegarder le graphique\n",
    "    plt.savefig('execution_time_svd_comparison.png')\n",
    "    plt.show()"
   ]
  },
  {
   "cell_type": "code",
   "execution_count": 129,
   "id": "3f8130cd",
   "metadata": {},
   "outputs": [
    {
     "data": {
      "image/png": "[encoded data removed]",
      "text/plain": [
       "<Figure size 1200x700 with 1 Axes>"
      ]
     },
     "metadata": {},
     "output_type": "display_data"
    }
   ],
   "source": [
    "functions = [decomposition_SVD, bidiagonale_qr , ]\n",
    "plot_execution_time(functions)"
   ]
  },
  {
   "cell_type": "markdown",
   "id": "cdb9a23a",
   "metadata": {},
   "source": [
    "#### Etude de cas : documents.txt"
   ]
  },
  {
   "cell_type": "code",
   "execution_count": 130,
   "id": "7c3ed021",
   "metadata": {},
   "outputs": [],
   "source": [
    "documents_fich = []\n",
    "termes_fich = set()\n",
    "\n",
    "with open(\"documents.txt\", \"r\", encoding='utf-8') as f:\n",
    "    for line in f:\n",
    "        line = line.strip()\n",
    "        if line:\n",
    "            # Séparer le numéro du reste du document\n",
    "            parts = line.split(' ', 1)\n",
    "            \n",
    "            if len(parts) > 1:\n",
    "                # Ajouter seulement le contenu (sans le numéro) à la liste des documents\n",
    "                documents_fich.append(parts[1])\n",
    "                \n",
    "                # Ajouter les termes à l'ensemble des termes\n",
    "                termes = parts[1].split()\n",
    "                for terme in termes:\n",
    "                    termes_fich.add(terme.lower())\n",
    "\n",
    "# Tri alphabétique des termes\n",
    "termes_fich= sorted(termes_fich)"
   ]
  },
  {
   "cell_type": "code",
   "execution_count": 131,
   "id": "949ef36e",
   "metadata": {},
   "outputs": [
    {
     "data": {
      "text/plain": [
       "((75, 1000), 75, 1000)"
      ]
     },
     "execution_count": 131,
     "metadata": {},
     "output_type": "execute_result"
    }
   ],
   "source": [
    "mat_fich = matrice_termes_documents(termes_fich, documents_fich)\n",
    "mat_fich.shape , len(termes_fich) , len(documents_fich)"
   ]
  },
  {
   "cell_type": "code",
   "execution_count": 132,
   "id": "5264db90",
   "metadata": {},
   "outputs": [
    {
     "name": "stdout",
     "output_type": "stream",
     "text": [
      "\n",
      "-------------TRAITEMENT---------------\n",
      "\n",
      "SCORE MIN : 0.8\n",
      "Documents avec un score > 0 (triés par score décroissant) :\n",
      "Document 935 : 0.85\n",
      "Document 571 : 0.8\n",
      "Document 33 : 0.7\n",
      "Document 380 : 0.7\n",
      "Document 589 : 0.7\n",
      "Document 926 : 0.69\n",
      "Document 24 : 0.67\n",
      "Document 613 : 0.67\n",
      "Document 931 : 0.67\n",
      "Document 565 : 0.66\n",
      "Document 604 : 0.66\n",
      "Document 528 : 0.65\n",
      "Document 949 : 0.64\n",
      "Document 892 : 0.63\n",
      "Document 777 : 0.59\n",
      "Document 410 : 0.58\n",
      "Document 446 : 0.58\n",
      "Document 972 : 0.57\n",
      "Document 137 : 0.55\n",
      "Document 45 : 0.52\n",
      "Document 73 : 0.49\n",
      "Document 510 : 0.47\n",
      "Document 678 : 0.47\n",
      "Document 328 : 0.46\n",
      "Document 464 : 0.46\n",
      "Document 536 : 0.46\n",
      "Document 868 : 0.46\n",
      "Document 287 : 0.44\n",
      "Document 376 : 0.44\n",
      "Document 509 : 0.44\n",
      "Document 739 : 0.44\n",
      "Document 443 : 0.42\n",
      "Document 906 : 0.42\n",
      "Document 180 : 0.41\n",
      "Document 346 : 0.41\n",
      "Document 347 : 0.41\n",
      "Document 365 : 0.41\n",
      "Document 765 : 0.41\n",
      "Document 104 : 0.4\n",
      "Document 274 : 0.4\n",
      "Document 16 : 0.39\n",
      "Document 182 : 0.39\n",
      "Document 575 : 0.39\n",
      "Document 923 : 0.39\n",
      "Document 633 : 0.38\n",
      "Document 826 : 0.38\n",
      "Document 959 : 0.38\n",
      "Document 970 : 0.38\n",
      "Document 63 : 0.37\n",
      "Document 158 : 0.37\n",
      "Document 594 : 0.37\n",
      "Document 703 : 0.37\n",
      "Document 911 : 0.37\n",
      "Document 405 : 0.36\n",
      "Document 853 : 0.36\n",
      "Document 129 : 0.35\n",
      "Document 203 : 0.35\n",
      "Document 309 : 0.35\n",
      "Document 820 : 0.35\n",
      "Document 505 : 0.34\n",
      "Document 522 : 0.34\n",
      "Document 576 : 0.34\n",
      "Document 601 : 0.34\n",
      "Document 829 : 0.34\n",
      "Document 873 : 0.34\n",
      "Document 22 : 0.33\n",
      "Document 431 : 0.33\n",
      "Document 662 : 0.33\n",
      "Document 957 : 0.33\n",
      "Document 501 : 0.32\n",
      "Document 569 : 0.32\n",
      "Document 582 : 0.32\n",
      "Document 584 : 0.32\n",
      "Document 626 : 0.32\n",
      "Document 919 : 0.32\n",
      "Document 944 : 0.32\n",
      "Document 413 : 0.31\n",
      "Document 993 : 0.31\n",
      "Document 262 : 0.3\n",
      "Document 533 : 0.3\n",
      "Document 832 : 0.3\n",
      "Document 918 : 0.3\n",
      "Document 139 : 0.29\n",
      "Document 657 : 0.28\n",
      "Document 319 : 0.27\n",
      "Document 660 : 0.26\n",
      "Document 8 : 0.25\n",
      "Document 90 : 0.25\n",
      "Document 516 : 0.25\n",
      "Document 261 : 0.24\n",
      "Document 306 : 0.24\n",
      "Document 688 : 0.24\n",
      "Document 894 : 0.24\n",
      "Document 3 : 0.22\n",
      "Document 886 : 0.22\n",
      "Document 981 : 0.21\n",
      "Document 544 : 0.18\n",
      "Document 759 : 0.18\n",
      "Document 723 : 0.17\n",
      "Document 531 : 0.15\n",
      "Document 243 : 0.13\n",
      "Document 625 : 0.13\n",
      "Document 736 : 0.11\n",
      "Document 459 : 0.1\n",
      "Document 666 : 0.1\n",
      "Document 192 : 0.09\n",
      "Document 424 : 0.08\n",
      "Document 454 : 0.08\n",
      "Document 520 : 0.08\n",
      "Document 623 : 0.08\n",
      "Document 712 : 0.08\n",
      "Document 768 : 0.08\n",
      "Document 120 : 0.07\n",
      "Document 417 : 0.07\n",
      "Document 470 : 0.06\n",
      "Document 43 : 0.05\n",
      "Document 135 : 0.05\n",
      "Document 251 : 0.05\n",
      "Document 296 : 0.05\n",
      "Document 848 : 0.05\n",
      "Document 95 : 0.03\n",
      "Document 224 : 0.03\n",
      "Document 286 : 0.03\n",
      "Document 915 : 0.03\n",
      "Document 786 : 0.02\n",
      "Document 936 : 0.01\n",
      "Document 994 : 0.01\n",
      "\n",
      "Le document le plus pertinent est le Document 935 avec un score de 0.85\n"
     ]
    }
   ],
   "source": [
    "#Test des methodes (Sans utilisation de la décomposition SVD) :\n",
    "requete_fich = \"java python\"\n",
    "vecteur_colonne_fich = requete_vers_colonne(termes_fich, requete_fich)\n",
    "\n",
    "print(\"\\n-------------TRAITEMENT---------------\\n\")\n",
    "requete_SVD(mat_fich , 62 , vecteur_colonne_fich)"
   ]
  },
  {
   "cell_type": "code",
   "execution_count": 133,
   "id": "8323774d",
   "metadata": {},
   "outputs": [
    {
     "name": "stdout",
     "output_type": "stream",
     "text": [
      "Document 24 : 0.63\n",
      "Document 33 : 0.63\n",
      "Document 380 : 0.63\n",
      "Document 446 : 0.63\n",
      "Document 565 : 0.63\n",
      "Document 571 : 0.63\n",
      "Document 589 : 0.63\n",
      "Document 604 : 0.63\n",
      "Document 613 : 0.63\n",
      "Document 777 : 0.63\n",
      "Document 892 : 0.63\n",
      "Document 926 : 0.63\n",
      "Document 931 : 0.63\n",
      "Document 935 : 0.63\n",
      "Document 949 : 0.63\n",
      "Document 16 : 0.32\n",
      "Document 22 : 0.32\n",
      "Document 45 : 0.32\n",
      "Document 63 : 0.32\n",
      "Document 73 : 0.32\n",
      "Document 90 : 0.32\n",
      "Document 104 : 0.32\n",
      "Document 129 : 0.32\n",
      "Document 137 : 0.32\n",
      "Document 139 : 0.32\n",
      "Document 158 : 0.32\n",
      "Document 180 : 0.32\n",
      "Document 182 : 0.32\n",
      "Document 203 : 0.32\n",
      "Document 261 : 0.32\n",
      "Document 262 : 0.32\n",
      "Document 274 : 0.32\n",
      "Document 287 : 0.32\n",
      "Document 306 : 0.32\n",
      "Document 309 : 0.32\n",
      "Document 319 : 0.32\n",
      "Document 328 : 0.32\n",
      "Document 346 : 0.32\n",
      "Document 347 : 0.32\n",
      "Document 365 : 0.32\n",
      "Document 376 : 0.32\n",
      "Document 405 : 0.32\n",
      "Document 410 : 0.32\n",
      "Document 413 : 0.32\n",
      "Document 431 : 0.32\n",
      "Document 443 : 0.32\n",
      "Document 464 : 0.32\n",
      "Document 501 : 0.32\n",
      "Document 505 : 0.32\n",
      "Document 509 : 0.32\n",
      "Document 510 : 0.32\n",
      "Document 516 : 0.32\n",
      "Document 522 : 0.32\n",
      "Document 528 : 0.32\n",
      "Document 533 : 0.32\n",
      "Document 536 : 0.32\n",
      "Document 569 : 0.32\n",
      "Document 575 : 0.32\n",
      "Document 576 : 0.32\n",
      "Document 582 : 0.32\n",
      "Document 584 : 0.32\n",
      "Document 594 : 0.32\n",
      "Document 601 : 0.32\n",
      "Document 625 : 0.32\n",
      "Document 626 : 0.32\n",
      "Document 633 : 0.32\n",
      "Document 657 : 0.32\n",
      "Document 660 : 0.32\n",
      "Document 662 : 0.32\n",
      "Document 678 : 0.32\n",
      "Document 703 : 0.32\n",
      "Document 739 : 0.32\n",
      "Document 759 : 0.32\n",
      "Document 765 : 0.32\n",
      "Document 820 : 0.32\n",
      "Document 826 : 0.32\n",
      "Document 829 : 0.32\n",
      "Document 832 : 0.32\n",
      "Document 853 : 0.32\n",
      "Document 868 : 0.32\n",
      "Document 873 : 0.32\n",
      "Document 894 : 0.32\n",
      "Document 906 : 0.32\n",
      "Document 911 : 0.32\n",
      "Document 918 : 0.32\n",
      "Document 919 : 0.32\n",
      "Document 923 : 0.32\n",
      "Document 944 : 0.32\n",
      "Document 957 : 0.32\n",
      "Document 959 : 0.32\n",
      "Document 970 : 0.32\n",
      "Document 972 : 0.32\n",
      "Document 981 : 0.32\n",
      "Document 993 : 0.32\n",
      "\n",
      "Aucun document disponible pour évaluation ou score insuffisant\n"
     ]
    }
   ],
   "source": [
    "#sans SVD\n",
    "resultat_requete(mat_fich, vecteur_colonne_fich, score_min = 0.8)"
   ]
  },
  {
   "cell_type": "code",
   "execution_count": 134,
   "id": "3e0003b4",
   "metadata": {},
   "outputs": [
    {
     "name": "stdout",
     "output_type": "stream",
     "text": [
      "SCORE MIN : 0.8\n",
      "Documents avec un score > 0 (triés par score décroissant) :\n",
      "Document 949 : 0.64\n",
      "Document 24 : 0.63\n",
      "Document 33 : 0.63\n",
      "Document 380 : 0.63\n",
      "Document 446 : 0.63\n",
      "Document 565 : 0.63\n",
      "Document 589 : 0.63\n",
      "Document 604 : 0.63\n",
      "Document 613 : 0.63\n",
      "Document 777 : 0.63\n",
      "Document 892 : 0.63\n",
      "Document 926 : 0.63\n",
      "Document 931 : 0.63\n",
      "Document 571 : 0.62\n",
      "Document 935 : 0.62\n",
      "Document 139 : 0.34\n",
      "Document 63 : 0.33\n",
      "Document 431 : 0.33\n",
      "Document 505 : 0.33\n",
      "Document 625 : 0.33\n",
      "Document 657 : 0.33\n",
      "Document 660 : 0.33\n",
      "Document 662 : 0.33\n",
      "Document 703 : 0.33\n",
      "Document 759 : 0.33\n",
      "Document 829 : 0.33\n",
      "Document 894 : 0.33\n",
      "Document 957 : 0.33\n",
      "Document 993 : 0.33\n",
      "Document 16 : 0.32\n",
      "Document 22 : 0.32\n",
      "Document 73 : 0.32\n",
      "Document 90 : 0.32\n",
      "Document 129 : 0.32\n",
      "Document 158 : 0.32\n",
      "Document 182 : 0.32\n",
      "Document 203 : 0.32\n",
      "Document 261 : 0.32\n",
      "Document 262 : 0.32\n",
      "Document 274 : 0.32\n",
      "Document 306 : 0.32\n",
      "Document 309 : 0.32\n",
      "Document 319 : 0.32\n",
      "Document 328 : 0.32\n",
      "Document 346 : 0.32\n",
      "Document 347 : 0.32\n",
      "Document 365 : 0.32\n",
      "Document 413 : 0.32\n",
      "Document 501 : 0.32\n",
      "Document 510 : 0.32\n",
      "Document 516 : 0.32\n",
      "Document 522 : 0.32\n",
      "Document 533 : 0.32\n",
      "Document 536 : 0.32\n",
      "Document 576 : 0.32\n",
      "Document 582 : 0.32\n",
      "Document 584 : 0.32\n",
      "Document 594 : 0.32\n",
      "Document 626 : 0.32\n",
      "Document 765 : 0.32\n",
      "Document 820 : 0.32\n",
      "Document 832 : 0.32\n",
      "Document 873 : 0.32\n",
      "Document 911 : 0.32\n",
      "Document 918 : 0.32\n",
      "Document 919 : 0.32\n",
      "Document 923 : 0.32\n",
      "Document 981 : 0.32\n",
      "Document 104 : 0.31\n",
      "Document 180 : 0.31\n",
      "Document 287 : 0.31\n",
      "Document 376 : 0.31\n",
      "Document 405 : 0.31\n",
      "Document 410 : 0.31\n",
      "Document 443 : 0.31\n",
      "Document 464 : 0.31\n",
      "Document 509 : 0.31\n",
      "Document 569 : 0.31\n",
      "Document 575 : 0.31\n",
      "Document 601 : 0.31\n",
      "Document 633 : 0.31\n",
      "Document 678 : 0.31\n",
      "Document 739 : 0.31\n",
      "Document 826 : 0.31\n",
      "Document 853 : 0.31\n",
      "Document 868 : 0.31\n",
      "Document 906 : 0.31\n",
      "Document 944 : 0.31\n",
      "Document 959 : 0.31\n",
      "Document 970 : 0.31\n",
      "Document 45 : 0.3\n",
      "Document 137 : 0.3\n",
      "Document 528 : 0.3\n",
      "Document 972 : 0.3\n",
      "Document 52 : 0.03\n",
      "Document 486 : 0.03\n",
      "Document 7 : 0.02\n",
      "Document 17 : 0.02\n",
      "Document 18 : 0.02\n",
      "Document 19 : 0.02\n",
      "Document 23 : 0.02\n",
      "Document 30 : 0.02\n",
      "Document 43 : 0.02\n",
      "Document 67 : 0.02\n",
      "Document 205 : 0.02\n",
      "Document 251 : 0.02\n",
      "Document 268 : 0.02\n",
      "Document 288 : 0.02\n",
      "Document 395 : 0.02\n",
      "Document 441 : 0.02\n",
      "Document 551 : 0.02\n",
      "Document 620 : 0.02\n",
      "Document 654 : 0.02\n",
      "Document 676 : 0.02\n",
      "Document 700 : 0.02\n",
      "Document 734 : 0.02\n",
      "Document 814 : 0.02\n",
      "Document 844 : 0.02\n",
      "Document 848 : 0.02\n",
      "Document 856 : 0.02\n",
      "Document 871 : 0.02\n",
      "Document 874 : 0.02\n",
      "Document 876 : 0.02\n",
      "Document 929 : 0.02\n",
      "Document 938 : 0.02\n",
      "Document 2 : 0.01\n",
      "Document 20 : 0.01\n",
      "Document 21 : 0.01\n",
      "Document 39 : 0.01\n",
      "Document 61 : 0.01\n",
      "Document 66 : 0.01\n",
      "Document 70 : 0.01\n",
      "Document 89 : 0.01\n",
      "Document 100 : 0.01\n",
      "Document 117 : 0.01\n",
      "Document 134 : 0.01\n",
      "Document 143 : 0.01\n",
      "Document 200 : 0.01\n",
      "Document 208 : 0.01\n",
      "Document 215 : 0.01\n",
      "Document 223 : 0.01\n",
      "Document 224 : 0.01\n",
      "Document 257 : 0.01\n",
      "Document 270 : 0.01\n",
      "Document 294 : 0.01\n",
      "Document 296 : 0.01\n",
      "Document 317 : 0.01\n",
      "Document 329 : 0.01\n",
      "Document 336 : 0.01\n",
      "Document 414 : 0.01\n",
      "Document 415 : 0.01\n",
      "Document 418 : 0.01\n",
      "Document 420 : 0.01\n",
      "Document 422 : 0.01\n",
      "Document 423 : 0.01\n",
      "Document 454 : 0.01\n",
      "Document 459 : 0.01\n",
      "Document 470 : 0.01\n",
      "Document 520 : 0.01\n",
      "Document 537 : 0.01\n",
      "Document 583 : 0.01\n",
      "Document 600 : 0.01\n",
      "Document 602 : 0.01\n",
      "Document 608 : 0.01\n",
      "Document 623 : 0.01\n",
      "Document 647 : 0.01\n",
      "Document 666 : 0.01\n",
      "Document 698 : 0.01\n",
      "Document 743 : 0.01\n",
      "Document 744 : 0.01\n",
      "Document 768 : 0.01\n",
      "Document 797 : 0.01\n",
      "Document 818 : 0.01\n",
      "Document 852 : 0.01\n",
      "Document 855 : 0.01\n",
      "Document 881 : 0.01\n",
      "Document 901 : 0.01\n",
      "Document 915 : 0.01\n",
      "Document 928 : 0.01\n",
      "Document 930 : 0.01\n",
      "Document 936 : 0.01\n",
      "Document 952 : 0.01\n",
      "Document 994 : 0.01\n",
      "\n",
      "Aucun document disponible pour évaluation ou score maximum inférieur à 0.8\n"
     ]
    }
   ],
   "source": [
    "#bidiagonalisation + QR\n",
    "requete_qr_bidiagonale(mat_fich , 75, vecteur_colonne_fich)"
   ]
  }
 ],
 "metadata": {
  "kernelspec": {
   "display_name": "Python 3",
   "language": "python",
   "name": "python3"
  },
  "language_info": {
   "codemirror_mode": {
    "name": "ipython",
    "version": 3
   },
   "file_extension": ".py",
   "mimetype": "text/x-python",
   "name": "python",
   "nbconvert_exporter": "python",
   "pygments_lexer": "ipython3",
   "version": "3.12.6"
  }
 },
 "nbformat": 4,
 "nbformat_minor": 5
}
