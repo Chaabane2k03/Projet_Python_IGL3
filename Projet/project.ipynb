{
 "cells": [
  {
   "cell_type": "markdown",
   "id": "2d74ec04",
   "metadata": {},
   "source": [
    "### Projet IGL3/IDS3 : Analyse Numérique Matricielle dans le cadre de la gestion de bases de données bibliographiques "
   ]
  },
  {
   "cell_type": "code",
   "execution_count": null,
   "id": "243a435a",
   "metadata": {},
   "outputs": [],
   "source": [
    "import numpy as np\n",
    "from fuzzywuzzy import fuzz\n",
    "import matplotlib.pyplot as plt\n",
    "import time\n",
    "from scipy.linalg import qr"
   ]
  },
  {
   "cell_type": "code",
   "execution_count": null,
   "id": "9d9cee5d",
   "metadata": {},
   "outputs": [],
   "source": [
    "# 1ère Partie : Calcul de score de document : Sans utilisation de la décomposition SVD\n",
    "# Modèle de l'espace vectoriel\n",
    "\n",
    "def matrice_termes_documents(termes, documents):\n",
    "    \"\"\"\n",
    "      Cette méthode permet de construire la matrice termes-documents.\n",
    "    \"\"\"\n",
    "    matrice = np.zeros((len(termes), len(documents)), dtype=int)\n",
    "\n",
    "    termes_sorted = sorted(termes)\n",
    "    termes_sorted = [terme.lower() for terme in termes_sorted]\n",
    "\n",
    "    documents_termes = []\n",
    "\n",
    "    for doc in documents :\n",
    "        if isinstance(doc, str) :\n",
    "            termes_doc = doc.lower().split()\n",
    "        else :\n",
    "            termes_doc = doc\n",
    "\n",
    "        documents_termes.append(termes_doc)\n",
    "\n",
    "    for i , terme in enumerate(termes_sorted) :\n",
    "        for j, doc_termes in enumerate(documents_termes) :\n",
    "            if terme in doc_termes :\n",
    "                matrice[i][j] = 1\n",
    "\n",
    "    return matrice "
   ]
  },
  {
   "cell_type": "code",
   "execution_count": null,
   "id": "444240ce",
   "metadata": {},
   "outputs": [],
   "source": [
    "def afficher_matrice(matrice) :\n",
    "    \"\"\"\n",
    "      Cette méthode permet d'afficher la matrice termes-documents.\n",
    "    \"\"\"\n",
    "    for i in range(matrice.shape[0]) :\n",
    "        for j in range(matrice.shape[1]) :\n",
    "            print(matrice[i][j], end = \" \")\n",
    "        print()"
   ]
  },
  {
   "cell_type": "code",
   "execution_count": null,
   "id": "703b6cac",
   "metadata": {},
   "outputs": [],
   "source": [
    "#Test de la méthode : \n",
    "# Génération de la matrice termes-documents (Exemple 1)\n",
    "documents = [\n",
    "    \"Algèbre linéaire et matrices\",\n",
    "    \"Analyse réele et suites\",\n",
    "    \"Probabilités et statistiques\",\n",
    "    \"Matrices et déterminants\"\n",
    "]\n",
    "\n",
    "termes = [\n",
    "    \"algèbre\",\n",
    "    \"matrices\",\n",
    "    \"analyse\",\n",
    "    \"suites\",\n",
    "    \"probabilités\",\n",
    "    \"statistiques\",\n",
    "    \"déterminants\"\n",
    "]\n",
    "\n",
    "\n",
    "matrice = matrice_termes_documents(termes, documents)\n",
    "afficher_matrice(matrice)"
   ]
  },
  {
   "cell_type": "code",
   "execution_count": null,
   "id": "42449424",
   "metadata": {},
   "outputs": [],
   "source": [
    "\n",
    "\n",
    "def requete_vers_colonne(termes, requete):\n",
    "    vecteur = [0] * len(termes) \n",
    "    termes_sorted = sorted(termes)\n",
    "    mots_requete = requete.lower().split()\n",
    "    \n",
    "    for i, terme in enumerate(termes_sorted):\n",
    "        for mot in mots_requete:\n",
    "            if fuzz.ratio(terme.lower(), mot) >= 90:\n",
    "                vecteur[i] = 1  \n",
    "                break  \n",
    "    \n",
    "    return vecteur\n"
   ]
  },
  {
   "cell_type": "code",
   "execution_count": null,
   "id": "7b4013fe",
   "metadata": {},
   "outputs": [],
   "source": [
    "#Test de la méthode :\n",
    "requete = \"Algèbre matrice\"\n",
    "vecteur_colonne = requete_vers_colonne(termes, requete)\n",
    "vecteur_colonne"
   ]
  },
  {
   "cell_type": "code",
   "execution_count": null,
   "id": "d478a639",
   "metadata": {},
   "outputs": [],
   "source": [
    "def score_document(j , matrice , q):\n",
    "    \"\"\"\n",
    "      Cette méthode permet de calculer le score d'un document j par rapport à une requête q.\n",
    "    \"\"\"\n",
    "    vect_doc = matrice[:, j]\n",
    "    norme_req = np.linalg.norm(q)\n",
    "    if norme_req == 0:\n",
    "        return 0\n",
    "    \n",
    "    norme_doc = np.linalg.norm(vect_doc)\n",
    "    if norme_doc == 0:\n",
    "        return 0\n",
    "    \n",
    "    produit_scalaire = np.dot(vect_doc, q)\n",
    "\n",
    "    score =  float(produit_scalaire / (norme_doc * norme_req))\n",
    "    return round(score, 2)"
   ]
  },
  {
   "cell_type": "code",
   "execution_count": null,
   "id": "a0006a30",
   "metadata": {},
   "outputs": [],
   "source": [
    "# Affichage des scores de documents : \n",
    "def tab_score(matrice , q):\n",
    "    \"\"\"\n",
    "      Cette méthode permet de calculer le score de chaque document par rapport à la requête q.\n",
    "    \"\"\"\n",
    "    scores = []\n",
    "    for j in range(matrice.shape[1]):\n",
    "        score = score_document(j, matrice, q)\n",
    "        scores.append(score)\n",
    "    return scores"
   ]
  },
  {
   "cell_type": "code",
   "execution_count": null,
   "id": "e1958b49",
   "metadata": {},
   "outputs": [],
   "source": [
    "def resultat_requete(matrice, q, score_min=0.8):\n",
    "    \"\"\"\n",
    "    Affiche les scores strictement positifs des documents par rapport à la requête q,\n",
    "    triés par ordre croissant, et détermine le document le plus pertinent.\n",
    "    \n",
    "    Args:\n",
    "        matrice: Matrice représentant les documents.\n",
    "        q: Requête.\n",
    "        score_min: Seuil minimum pour considérer un document pertinent (par défaut 0.8).\n",
    "    \"\"\"\n",
    "    # Calculer les scores\n",
    "    scores = tab_score(matrice, q)\n",
    "    \n",
    "    # Créer une liste de tuples (indice, score) pour les scores > 0\n",
    "    scores_positifs = [(i, score) for i, score in enumerate(scores) if score > 0]\n",
    "    \n",
    "    # Trier par score en ordre croissant\n",
    "    scores_positifs = sorted(scores_positifs, key=lambda x: x[1], reverse=True)\n",
    "    \n",
    "    # Afficher les scores positifs\n",
    "    if scores_positifs:\n",
    "        for i, score in scores_positifs:\n",
    "            print(f\"Document {i+1} : {score}\")\n",
    "    else:\n",
    "        print(\"Aucun document avec un score strictement positif\")\n",
    "    \n",
    "    # Identifier le document le plus pertinent\n",
    "    if len(scores) > 0 and max(scores, default=0) > score_min:\n",
    "        indice_max = scores.index(max(scores))\n",
    "        print(f\"\\nLe document le plus pertinent est le Document {indice_max+1} avec un score de {scores[indice_max]}\")\n",
    "    else:\n",
    "        print(\"\\nAucun document disponible pour évaluation ou score insuffisant\")"
   ]
  },
  {
   "cell_type": "code",
   "execution_count": null,
   "id": "6fbcaafe",
   "metadata": {},
   "outputs": [],
   "source": [
    "#Test des méthodes (Sans utilisation de la décomposition SVD) :\n",
    "# Exemple 1 : \n",
    "\n",
    "requete = \"Algèbre matrice\"\n",
    "vecteur_colonne = requete_vers_colonne(termes, requete)\n",
    "\n",
    "print(\"---------------AFFICHAGE DE LA MATRICE---------------\\n\")\n",
    "matrice = matrice_termes_documents(termes, documents)\n",
    "afficher_matrice(matrice)\n",
    "print(\"\\n---------------TRAVAIL DE LA REQUETE---------------\\n\")\n",
    "# Affichage des scores de documents :\n",
    "resultat_requete(matrice, vecteur_colonne, score_min = 0.8)\n"
   ]
  },
  {
   "cell_type": "code",
   "execution_count": null,
   "id": "9a3a545c",
   "metadata": {},
   "outputs": [],
   "source": [
    "# Avant le test de l'exemple 3 : Génération de la matrice termes-documents (Exemple 3)\n",
    "documents_exemple_3 = [\n",
    "    \"Croissance PIB Investissement\",\n",
    "    \"Inflation Monnaie Dépression\",\n",
    "    \"Commerce Exportation Croissance\",\n",
    "    \"Emploi Chômage Salaire\",\n",
    "    \"Impôts Fiscalité Budget\",\n",
    "    \"Géologie Faille Tremblement\",\n",
    "    \"Volcan Séisme Plaque tectonique\",\n",
    "    \"Dépression Bassin Erosion\",\n",
    "    \"Stratigraphie Couches Roche\",\n",
    "    \"Gisement Forage Bassin\"\n",
    "]\n",
    "\n",
    "termes_exemple_3 = [\n",
    "    \"Bassin\",\n",
    "    \"Chômage\",\n",
    "    \"Croissance\",\n",
    "    \"Dépression\",\n",
    "    \"Fiscalité\",\n",
    "    \"Séisme\"\n",
    "]\n",
    "\n",
    "matrice_exemple_3 = matrice_termes_documents(termes_exemple_3, documents_exemple_3)\n",
    "afficher_matrice(matrice_exemple_3)"
   ]
  },
  {
   "cell_type": "code",
   "execution_count": null,
   "id": "abde7825",
   "metadata": {},
   "outputs": [],
   "source": [
    "# Exemple 3 (REQUERTES) :\n",
    "requete_exemple_3_1 = \"dépression croissance\"\n",
    "requete_exemple_3_2 = \"bassin fiscalité\""
   ]
  },
  {
   "cell_type": "code",
   "execution_count": null,
   "id": "0693c97d",
   "metadata": {},
   "outputs": [],
   "source": [
    "#Test de la méthode (EXEMPLE 3) :\n",
    "vecteur_colonne_exemple_3_1 = requete_vers_colonne(termes_exemple_3, requete_exemple_3_1)\n",
    "vecteur_colonne_exemple_3_2 = requete_vers_colonne(termes_exemple_3, requete_exemple_3_2)\n",
    "\n",
    "print(\"\\n---------------TRAVAIL DE LA REQUETE 1---------------\\n\")\n",
    "resultat_requete(matrice_exemple_3, vecteur_colonne_exemple_3_1, score_min = 0.8)\n"
   ]
  },
  {
   "cell_type": "code",
   "execution_count": null,
   "id": "5bf809a6",
   "metadata": {},
   "outputs": [],
   "source": [
    "print(\"\\n---------------TRAVAIL DE LA REQUETE 2---------------\\n\")\n",
    "resultat_requete(matrice_exemple_3, vecteur_colonne_exemple_3_1, score_min = 0.8)"
   ]
  },
  {
   "cell_type": "markdown",
   "id": "e9fd044e",
   "metadata": {},
   "source": [
    "#### 2) Décomposition en valeurs singulières d'une matrice (SVD)"
   ]
  },
  {
   "cell_type": "code",
   "execution_count": null,
   "id": "fe236309",
   "metadata": {},
   "outputs": [],
   "source": [
    "#Application de la décomposition SVD (méthode prédéfinie) :\n",
    "def decomposition_SVD(matrice):\n",
    "    \"\"\"\n",
    "      Cette méthode permet de calculer la décomposition SVD de la matrice.\n",
    "    \"\"\"\n",
    "    U, S, Vt = np.linalg.svd(matrice, full_matrices=False)\n",
    "    return U, S, Vt"
   ]
  },
  {
   "cell_type": "code",
   "execution_count": null,
   "id": "82807e36",
   "metadata": {},
   "outputs": [],
   "source": [
    "#Test de la méthode :\n",
    "U , S , Vt = decomposition_SVD(matrice)\n",
    "print(\"\\n---------------DECOMPOSITION SVD---------------\\n\")\n",
    "print(\"Matrice U :\\n\", U)\n",
    "print(\"\\nMatrice S :\\n\", S)\n",
    "print(\"\\nMatrice Vt :\\n\", Vt)\n"
   ]
  },
  {
   "cell_type": "code",
   "execution_count": null,
   "id": "f851a3d5",
   "metadata": {},
   "outputs": [],
   "source": [
    "def approximation_SVD(matrice, k):\n",
    "    \"\"\"\n",
    "      Cette méthode permet de calculer l'approximation SVD de la matrice.\n",
    "    \"\"\"\n",
    "    U, S, Vt = decomposition_SVD(matrice)\n",
    "    S_k = np.zeros((U.shape[0], Vt.shape[0]))\n",
    "    np.fill_diagonal(S_k, S[:k])\n",
    "    return U[:, :k], S_k[:k, :k], Vt[:k, :]"
   ]
  },
  {
   "cell_type": "code",
   "execution_count": null,
   "id": "d08776d2",
   "metadata": {},
   "outputs": [],
   "source": [
    "#Test de la méthode :\n",
    "app_U , app_S , app_Vt = approximation_SVD(matrice, 3)\n",
    "print(\"\\n---------------APPROXIMATION SVD : TEST RESULTAS---------------\\n\")\n",
    "matrice.shape ,app_U.shape, app_S.shape, app_Vt.shape"
   ]
  },
  {
   "cell_type": "code",
   "execution_count": null,
   "id": "18ae334b",
   "metadata": {},
   "outputs": [],
   "source": [
    "#Fonction de calcul du score de document avec SVD (SCORE DE PERTINENCE) :\n",
    "def score_pertinence(q , j , U_k , Sk , V_tk ):\n",
    "    \"\"\"\n",
    "      Cette méthode permet de calculer le score de pertinence d'un document j par rapport à une requête q\n",
    "      en utilisant la décomposition SVD.\n",
    "\n",
    "      PARAMETRES (ENTRÉES) :\n",
    "        - q : vecteur colonne de la requête\n",
    "        - matrice : matrice termes-documents (ORIGINALE) (n,m)\n",
    "        - j : indice du document\n",
    "        - U_k : matrice U de la décomposition SVD (approximation par k) : shape (n,k)\n",
    "        - Sk : matrice S de la décomposition SVD (approximation par k) : shape (k,k)\n",
    "        - V_tk : matrice Vt (transposé) de la décomposition SVD (approximation par k) : shape (k,m)\n",
    "    \"\"\"\n",
    "    # transposition de la matrice U_k\n",
    "    U_k_transpose = U_k.T\n",
    "    prod_1 = U_k_transpose @ q # produit de la matrice U_k transposée et du vecteur colonne q\n",
    "    prod_2 = Sk @ V_tk[: , j] # produit de la matrice S_k et de la matrice Vt_k et du vecteur colonne du document j\n",
    "\n",
    "    dominateur = np.linalg.norm(prod_1) * np.linalg.norm(prod_2) # produit des normes\n",
    "    if dominateur == 0:\n",
    "        return 0\n",
    "    \n",
    "    score = float(np.dot(prod_1, prod_2) / dominateur) # produit scalaire entre les deux produits\n",
    "    return round(max(score , 0), 2) # arrondi à 2 chiffres après la virgule\n",
    "   "
   ]
  },
  {
   "cell_type": "code",
   "execution_count": null,
   "id": "d4680a1d",
   "metadata": {},
   "outputs": [],
   "source": [
    "# calcul scores de documents : \n",
    "def tab_score_pertinence(q , matrice , U_k , Sk , V_tk):\n",
    "    \"\"\"\n",
    "      Cette méthode permet de calculer le score de chaque document par rapport à la requête q.\n",
    "    \"\"\"\n",
    "    scores = []\n",
    "    for j in range(matrice.shape[1]):\n",
    "        score = score_pertinence(q  , j , U_k , Sk , V_tk)\n",
    "        scores.append(score)\n",
    "    return scores"
   ]
  },
  {
   "cell_type": "code",
   "execution_count": null,
   "id": "278e024a",
   "metadata": {},
   "outputs": [],
   "source": [
    "def resultat_requete_pertinence(q, matrice, U_k, Sk, V_tk, score_min=0.8):\n",
    "    \"\"\"\n",
    "    Cette méthode affiche les scores des documents par rapport à la requête q (scores > 0 uniquement),\n",
    "    dans l'ordre décroissant des scores, et détermine le document le plus pertinent.\n",
    "    \n",
    "    Args:\n",
    "        q: Vecteur colonne représentant la requête.\n",
    "        matrice: Matrice termes-documents.\n",
    "        U_k: Matrice U tronquée issue de la SVD.\n",
    "        Sk: Matrice diagonale des valeurs singulières tronquées.\n",
    "        V_tk: Matrice V^T tronquée issue de la SVD.\n",
    "        score_min: Score minimum pour considérer un document comme pertinent (défaut: 0.8).\n",
    "    \"\"\"\n",
    "    print(\"SCORE MIN :\", score_min)\n",
    "    \n",
    "    # Calculer les scores\n",
    "    scores = tab_score_pertinence(q, matrice, U_k, Sk, V_tk)\n",
    "    \n",
    "    # Créer une liste de tuples (indice, score) pour les scores > 0\n",
    "    valid_scores = [(i+1, score) for i, score in enumerate(scores) if score > 0]\n",
    "    \n",
    "    # Trier par score en ordre décroissant\n",
    "    valid_scores.sort(key=lambda x: x[1], reverse=True)\n",
    "    \n",
    "    # Afficher les documents avec score > 0\n",
    "    if valid_scores:\n",
    "        print(\"Documents avec un score > 0 (triés par score décroissant) :\")\n",
    "        for doc_num, score in valid_scores:\n",
    "            print(f\"Document {doc_num} : {score}\")\n",
    "    else:\n",
    "        print(\"Aucun document avec un score > 0.\")\n",
    "    \n",
    "    # Trouver le document le plus pertinent\n",
    "    if len(scores) > 0 and max(scores) > score_min:\n",
    "        indice_max = scores.index(max(scores))\n",
    "        print(f\"\\nLe document le plus pertinent est le Document {indice_max+1} avec un score de {scores[indice_max]}\")\n",
    "    else:\n",
    "        print(\"\\nAucun document disponible pour évaluation ou score maximum inférieur à\", score_min)"
   ]
  },
  {
   "cell_type": "code",
   "execution_count": null,
   "id": "783870cc",
   "metadata": {},
   "outputs": [],
   "source": [
    "#méthode illustrative de (Décomposition en valeurs singulières d'une matrice (SVD))\n",
    "def requete_SVD(matrice , k , q) : \n",
    "    U_k , Sk , V_tk = approximation_SVD(matrice, k)\n",
    "    resultat_requete_pertinence(q , matrice , U_k , Sk , V_tk , 0.8)\n",
    "    "
   ]
  },
  {
   "cell_type": "code",
   "execution_count": null,
   "id": "afc9c4e3",
   "metadata": {},
   "outputs": [],
   "source": [
    "#Test de la méthode : score_pertinence\n",
    "requete = \"Algèbre matrice\"\n",
    "vecteur_colonne = requete_vers_colonne(termes, requete)\n",
    "print(\"---------------AFFICHAGE DE LA MATRICE---------------\\n\")\n",
    "matrice = matrice_termes_documents(termes, documents)\n",
    "afficher_matrice(matrice)\n",
    "print(\"\\n-------------TRAITEMENT---------------\\n\")\n",
    "requete_SVD(matrice , 4 , vecteur_colonne)\n"
   ]
  },
  {
   "cell_type": "code",
   "execution_count": null,
   "id": "48623051",
   "metadata": {},
   "outputs": [],
   "source": [
    "#EXEMPLE 3 (REQUERTES DEJA PREPARES) :\n",
    "print(\"\\n---------------TRAVAIL DE LA REQUETE 1---------------\\n\")\n",
    "requete_SVD(matrice_exemple_3 , 6 , vecteur_colonne_exemple_3_1)"
   ]
  },
  {
   "cell_type": "code",
   "execution_count": null,
   "id": "82f63dd0",
   "metadata": {},
   "outputs": [],
   "source": [
    "#EXEMPLE 3 (REQUERTES DEJA PREPARES) :\n",
    "print(\"\\n---------------TRAVAIL DE LA REQUETE 2---------------\\n\")\n",
    "requete_SVD(matrice_exemple_3 , 6 , vecteur_colonne_exemple_3_2)"
   ]
  },
  {
   "cell_type": "markdown",
   "id": "cc621539",
   "metadata": {},
   "source": [
    "##### Accélération des calculs : Bidiagonalisation et méthode QR "
   ]
  },
  {
   "cell_type": "code",
   "execution_count": null,
   "id": "508a8bea",
   "metadata": {},
   "outputs": [],
   "source": [
    "def bidiagonale(A):\n",
    "    A = np.asarray(A, dtype=float)\n",
    "    m, n = A.shape\n",
    "    p = min(m, n)\n",
    "    alpha = np.zeros(p)\n",
    "    beta = np.zeros(p-1)\n",
    "    U = np.zeros((m, p))\n",
    "    V = np.zeros((n, p))\n",
    "    \n",
    "    try:\n",
    "        u = A[:, 0] if np.linalg.norm(A[:, 0]) != 0 else np.ones(m) / np.sqrt(m)\n",
    "        u = u / np.linalg.norm(u)\n",
    "        U[:, 0] = u\n",
    "        \n",
    "        for i in range(p):\n",
    "            v = A.T @ U[:, i]\n",
    "            if i > 0:\n",
    "                v -= beta[i-1] * V[:, i-1] \n",
    "            for j in range(i):\n",
    "                v -= np.dot(V[:, j], v) * V[:, j]\n",
    "            alpha[i] = np.linalg.norm(v)\n",
    "            if alpha[i] < 1e-10:\n",
    "                V[:, i] = 0\n",
    "                break\n",
    "            V[:, i] = v / alpha[i]\n",
    "            \n",
    "            if i < p-1:\n",
    "                u = A @ V[:, i] - alpha[i] * U[:, i]\n",
    "                for j in range(i+1):\n",
    "                    u -= np.dot(U[:, j], u) * U[:, j]\n",
    "                beta[i] = np.linalg.norm(u)\n",
    "                if beta[i] < 1e-10:\n",
    "                    U[:, i+1] = 0\n",
    "                    break\n",
    "                U[:, i+1] = u / beta[i]\n",
    "        \n",
    "        B = np.zeros((min(i+1, p), min(i+1, p)))\n",
    "        np.fill_diagonal(B, alpha[:min(i+1, p)])\n",
    "        if i > 0:\n",
    "            np.fill_diagonal(B[1:, :-1], beta[:min(i, p-1)])\n",
    "        return U[:, :min(i+1, p)], B, V[:, :min(i+1, p)]\n",
    "    \n",
    "    except Exception as e:\n",
    "        print(f\"Error in bidiagonale: {e}\")\n",
    "        raise"
   ]
  },
  {
   "cell_type": "code",
   "execution_count": null,
   "id": "d38b5839",
   "metadata": {},
   "outputs": [],
   "source": [
    "#Test de la méthode de Bidiagonalisation :\n",
    "A = np.random.randint(0, 100, size=(1000, 500))\n",
    "U, B, V = bidiagonale(A)\n",
    "\n",
    "\n",
    "\n",
    "print('Original matrix:')\n",
    "print(A)\n",
    "print('\\nReconstructed matrix (U @ B @ V^T):')\n",
    "print(U @ B @ V.T)\n",
    "print('\\nCheck norm of difference:', np.linalg.norm(A - U @ B @ V.T))"
   ]
  },
  {
   "cell_type": "code",
   "execution_count": null,
   "id": "3226c2a5",
   "metadata": {},
   "outputs": [],
   "source": [
    "#Voir l'erreur relative \n",
    "print('Relative error:', np.linalg.norm(A - U @ B @ V.T) / np.linalg.norm(A))"
   ]
  },
  {
   "cell_type": "code",
   "execution_count": null,
   "id": "c0a3051e",
   "metadata": {},
   "outputs": [],
   "source": [
    "#Test des propriétés de la matrice bidiagonale :\n",
    "print(B.shape)\n",
    "B"
   ]
  },
  {
   "cell_type": "code",
   "execution_count": null,
   "id": "1cd4b9a2",
   "metadata": {},
   "outputs": [],
   "source": [
    "def qr_decomposition(A):\n",
    "    n , m = A.shape\n",
    "    Q = np.zeros((n, m))\n",
    "    R = np.zeros((m, m))\n",
    "\n",
    "    for j in range(m):\n",
    "        v = A[:, j]\n",
    "        for i in range(j):\n",
    "            R[i, j] = np.dot(Q[:, i], A[:, j])\n",
    "            v -= R[i, j] * Q[:, i]\n",
    "        R[j, j] = np.linalg.norm(v)\n",
    "        Q[:, j] = v / R[j, j]\n",
    "    return Q, R"
   ]
  },
  {
   "cell_type": "code",
   "execution_count": null,
   "id": "55be9b6f",
   "metadata": {},
   "outputs": [],
   "source": [
    "def optimized_qr_decomposition(A):\n",
    "    Q, R = qr(A, mode='full')\n",
    "    return Q, R"
   ]
  },
  {
   "cell_type": "code",
   "execution_count": null,
   "id": "e3c44d70",
   "metadata": {},
   "outputs": [],
   "source": [
    "#test de la méthode qr_decomposition\n",
    "A = np.array([[1, -1, 4], [1, 4, -2], [1, 4, 2], [1, -1, 0]], dtype=float)  # Ensure A is of type float\n",
    "Q, R = qr_decomposition(A)\n",
    "print(\"Q:\", Q)\n",
    "print(\"R:\", R)"
   ]
  },
  {
   "cell_type": "code",
   "execution_count": null,
   "id": "398d5120",
   "metadata": {},
   "outputs": [],
   "source": [
    "\n",
    "def qr_bidiagonal(B, U_bidiag, V_bidiag, max_iter=100, tol=1e-10):\n",
    "    \"\"\"\n",
    "    Calcule la décomposition SVD d'une matrice bidiagonale B à partir de U_bidiag et V_bidiag.\n",
    "    \n",
    "    Args:\n",
    "        B: Matrice bidiagonale (m × n).\n",
    "        U_bidiag: Matrice U initiale de la bidiagonalisation (m × m).\n",
    "        V_bidiag: Matrice V initiale de la bidiagonalisation (n × n).\n",
    "        max_iter: Nombre maximum d'itérations.\n",
    "        tol: Tolérance pour la convergence.\n",
    "    \n",
    "    Returns:\n",
    "        U, S, Vt: Matrices de la SVD telles que A ≈ U @ S @ Vt.\n",
    "    \"\"\"\n",
    "    m, n = B.shape\n",
    "    p = min(m, n)\n",
    "    Bk = B.copy()\n",
    "    U = U_bidiag.copy()\n",
    "    V = V_bidiag.copy()\n",
    "    \n",
    "    for k in range(max_iter):\n",
    "        # QR decomposition de Bk.T @ Bk (implicitement via Golub-Kahan)\n",
    "        Q, R = np.linalg.qr(Bk.T @ Bk)\n",
    "        V = V @ Q\n",
    "        Bk = Bk @ Q\n",
    "        \n",
    "        # QR decomposition de Bk\n",
    "        Q, R = np.linalg.qr(Bk)\n",
    "        U = U @ Q\n",
    "        Bk = R\n",
    "        \n",
    "        # Vérifier la convergence (éléments super-diagonaux)\n",
    "        off_diag = np.diag(Bk, k=1)\n",
    "        if np.all(np.abs(off_diag) < tol * np.linalg.norm(Bk, 'fro')):\n",
    "            break\n",
    "    \n",
    "    # Extraire les valeurs singulières (diagonale de Bk)\n",
    "    S = np.zeros((m, n))\n",
    "    s = np.diag(Bk)\n",
    "    for i in range(min(m, n)):\n",
    "        S[i, i] = abs(s[i])\n",
    "    \n",
    "    # Assurer que les valeurs singulières sont dans l'ordre décroissant\n",
    "    idx = np.argsort(s)[::-1]\n",
    "    S = np.diag(np.sort(s)[::-1])\n",
    "    U = U[:, idx]\n",
    "    V = V[:, idx]\n",
    "    \n",
    "    return U, S, V.T"
   ]
  },
  {
   "cell_type": "code",
   "execution_count": null,
   "id": "78fd8831",
   "metadata": {},
   "outputs": [],
   "source": [
    "A = np.random.randint(0, 2, size=(1000, 500)).astype(float)\n",
    "U_bidiag, B, V_bidiag = bidiagonale(A)  # Use your bidiagonale function\n",
    "\n",
    "start_time = time.time()\n",
    "U_opt, Sk_opt, V_t_opt = qr_bidiagonal(B, U_bidiag, V_bidiag, max_iter=100, tol=1e-6)\n",
    "print(f\"Optimized qr_bidiagonal time: {time.time() - start_time:.4f}s\")\n",
    "print(f\"Reconstruction error: {np.linalg.norm(A - U_opt @ Sk_opt @ V_t_opt):.4f}\")\n",
    "print(f\"Relative error: {np.linalg.norm(A - U_opt @ Sk_opt @ V_t_opt) / np.linalg.norm(A):.4f}\")"
   ]
  },
  {
   "cell_type": "markdown",
   "id": "72fb6fac",
   "metadata": {},
   "source": [
    "Remarque : la méthode de bidiagonalisation + QR est supposé faite pour optimiser les calculs de SVD , cependant le temps d'éxécution est très couteux lors de l'implémentation de l'algorithme qr_bidiagonal pour des raisons multiples : les boucles long et surtout le nombre d'opérations des calculs des produits matricielle . ce qui rend la complexité de cet algorithme est très importante meme si il affiche des pourcentages acceptables en erreur relatif (< 1%)"
   ]
  },
  {
   "cell_type": "code",
   "execution_count": null,
   "id": "8420921b",
   "metadata": {},
   "outputs": [],
   "source": [
    "def bidiagonale_qr(A):\n",
    "    U,B,V = bidiagonale(A)\n",
    "    U_test, Sk, V_t_test = qr_bidiagonal(B, U, V)\n",
    "    return U_test, Sk, V_t_test"
   ]
  },
  {
   "cell_type": "code",
   "execution_count": null,
   "id": "90060b20",
   "metadata": {},
   "outputs": [],
   "source": [
    "# Matrice de test\n",
    "A = np.array([[1, 2, 3], [4, 5, 6], [7, 8, 9], [10, 11, 12]])\n",
    "\n",
    "# Étape 1: Bidiagonalisation\n",
    "U, B, V = bidiagonale(A)\n",
    "print(\"Matrice bidiagonale B:\\n\", B)\n",
    "\n",
    "# Étape 2: Algorithme QR pour B\n",
    "U_test, Sk, V_t_test = qr_bidiagonal(B, U, V)\n",
    "print(\"\\nValeurs singulières calculées:\", np.diag(Sk))\n",
    "\n",
    "# Comparaison avec la SVD de NumPy\n",
    "U_numpy, s_numpy, Vt_numpy = np.linalg.svd(A, full_matrices=False)\n",
    "print(\"\\nValeurs singulières NumPy:\", s_numpy)\n",
    "\n",
    "\n",
    "# Vérifier que A ≈ U_test @ Sk @ V_t_test\n",
    "A_reconstitue = U_test @ Sk @ V_t_test\n",
    "print(\"\\nErreur de reconstitution:\", np.linalg.norm(A - A_reconstitue) / np.linalg.norm(A))\n",
    "\n",
    "# Comparer les produits\n",
    "print(\"\\nMatrice originale A:\\n\", A)\n",
    "print(\"\\nMatrice reconstruite U_test @ Sk @ V_t_test:\\n\", A_reconstitue)"
   ]
  },
  {
   "cell_type": "code",
   "execution_count": null,
   "id": "d7ee968a",
   "metadata": {},
   "outputs": [],
   "source": [
    "def approximation_k (k , U_k , Sk , V_tk) :\n",
    "    return U_k[:, :k], Sk[:k, :k], V_tk[:k, :]"
   ]
  },
  {
   "cell_type": "code",
   "execution_count": null,
   "id": "c99e3e6c",
   "metadata": {},
   "outputs": [],
   "source": [
    "def requete_qr_bidiagonale(matrice ,k , q) : \n",
    "\n",
    "    U , B , V = bidiagonale(matrice)\n",
    "    U_bdiag , S_bdiag , V_tbdiag = qr_bidiagonal(B , U ,V)\n",
    "    U_k , Sk , V_tk = approximation_k(k , U_bdiag , S_bdiag , V_tbdiag)\n",
    "    resultat_requete_pertinence(q , matrice , U_k , Sk , V_tk , 0.8)"
   ]
  },
  {
   "cell_type": "code",
   "execution_count": null,
   "id": "53d8694b",
   "metadata": {},
   "outputs": [],
   "source": [
    "# EXEMPLE 1 :\n",
    "requete = \"Algèbre matrice\"\n",
    "vecteur_colonne = requete_vers_colonne(termes, requete)\n",
    "print(\"---------------AFFICHAGE DE LA MATRICE---------------\\n\")\n",
    "matrice = matrice_termes_documents(termes, documents)\n",
    "afficher_matrice(matrice)\n",
    "print(\"\\n-------------TRAITEMENT---------------\\n\")\n",
    "requete_qr_bidiagonale(matrice, 4, vecteur_colonne)\n"
   ]
  },
  {
   "cell_type": "code",
   "execution_count": null,
   "id": "486d7aa1",
   "metadata": {},
   "outputs": [],
   "source": [
    "#EXEMPLE 3 (REQUERTES DEJA PREPARES) :\n",
    "print(\"\\n---------------TRAVAIL DE LA REQUETE 1---------------\\n\")\n",
    "requete_qr_bidiagonale(matrice_exemple_3 , 10, vecteur_colonne_exemple_3_1)"
   ]
  },
  {
   "cell_type": "code",
   "execution_count": null,
   "id": "1ebd7d7e",
   "metadata": {},
   "outputs": [],
   "source": [
    "#EXEMPLE 3 (REQUERTES DEJA PREPARES) :\n",
    "print(\"\\n---------------TRAVAIL DE LA REQUETE 2---------------\\n\")\n",
    "requete_qr_bidiagonale(matrice_exemple_3 , 5 , vecteur_colonne_exemple_3_2)"
   ]
  },
  {
   "cell_type": "markdown",
   "id": "3a3a2842",
   "metadata": {},
   "source": [
    "#### Variation du rang k et ses effets au  termes de classification des documents par score de pertinence , erreur de reconstruction "
   ]
  },
  {
   "cell_type": "markdown",
   "id": "98d89cd4",
   "metadata": {},
   "source": [
    "##### 1) Approche SVD"
   ]
  },
  {
   "cell_type": "code",
   "execution_count": null,
   "id": "f6b0d877",
   "metadata": {},
   "outputs": [],
   "source": [
    "# variations de rang k avec k << min(Nt , Nd)\n",
    "# EXEMPLE 1 : \n",
    "max_k = min(matrice.shape)\n",
    "\n",
    "for k in range (1 , max_k + 1) : \n",
    "    print(\"Pour k = \" , k)\n",
    "    requete_SVD(matrice , k , vecteur_colonne)\n",
    "    print(\"\\n----------------------------------------------------\\n\")"
   ]
  },
  {
   "cell_type": "code",
   "execution_count": null,
   "id": "8c53cb14",
   "metadata": {},
   "outputs": [],
   "source": [
    "# variations de rang k avec k << min(Nt , Nd)\n",
    "# EXEMPLE 3 Requete 1 : \n",
    "max_k = min(matrice_exemple_3.shape)\n",
    "\n",
    "for k in range (1 , max_k + 1) : \n",
    "    print(\"Pour k = \" , k)\n",
    "    requete_SVD(matrice_exemple_3 , k , vecteur_colonne_exemple_3_1)\n",
    "    print(\"\\n----------------------------------------------------\\n\")"
   ]
  },
  {
   "cell_type": "code",
   "execution_count": null,
   "id": "7b54d382",
   "metadata": {},
   "outputs": [],
   "source": [
    "# variations de rang k avec k << min(Nt , Nd)\n",
    "# EXEMPLE 3 Requete 2 : \n",
    "max_k = min(matrice_exemple_3.shape)\n",
    "\n",
    "for k in range (1 , max_k + 1) : \n",
    "    print(\"Pour k = \" , k)\n",
    "    requete_SVD(matrice_exemple_3 , k , vecteur_colonne_exemple_3_2)\n",
    "    print(\"\\n----------------------------------------------------\\n\")"
   ]
  },
  {
   "cell_type": "code",
   "execution_count": null,
   "id": "aa2ad3a8",
   "metadata": {},
   "outputs": [],
   "source": [
    "# La norme d'erreur ||D - Dk ||2 : test avant la méthode\n",
    "U , S , V = decomposition_SVD(matrice)\n",
    "D = U @ np.diag(S) @ V\n",
    "Uk , Sk , Vk = approximation_SVD(matrice , 1)\n",
    "Uk.shape , Sk.shape , Vk.shape\n",
    "Dk = Uk @ Sk @ Vk\n",
    "\n",
    "# Calcul de la norme d'erreur\n",
    "\n",
    "norme_erreur = np.linalg.norm(D - Dk, ord=2)\n",
    "print(\"Norme d'erreur ||D - Dk||2:\", norme_erreur)"
   ]
  },
  {
   "cell_type": "code",
   "execution_count": null,
   "id": "3854e050",
   "metadata": {},
   "outputs": [],
   "source": [
    "def norme_erreur_svd(matrice , k) : \n",
    "    U , S , V = decomposition_SVD(matrice)\n",
    "    D = U @ np.diag(S) @ V\n",
    "    Uk , Sk , Vk = approximation_SVD(matrice , k)\n",
    "    Dk = Uk @ Sk @ Vk\n",
    "    norme_erreur = np.linalg.norm(D - Dk, ord=2)\n",
    "    return norme_erreur"
   ]
  },
  {
   "cell_type": "code",
   "execution_count": null,
   "id": "02242ae9",
   "metadata": {},
   "outputs": [],
   "source": [
    "def plot_norme_erreur(matrice, max_k):\n",
    "    if max_k is None:\n",
    "        max_k = min(matrice.shape)\n",
    "    erreurs = []\n",
    "    for k in range(1, max_k + 1):\n",
    "        erreur = norme_erreur_svd(matrice, k)\n",
    "        erreurs.append(erreur)\n",
    "    \n",
    "    plt.figure(figsize=(10, 6))\n",
    "    plt.plot(range(1, max_k + 1), erreurs, 'bo-', linewidth=2)\n",
    "    plt.title('Norme d\\'erreur ||D - Dk||₂ en fonction de k')\n",
    "    plt.xlabel('Nombre de valeurs singulières conservées (k)')\n",
    "    plt.ylabel('Norme d\\'erreur ||D - Dk||₂')\n",
    "    plt.grid(True)\n",
    "    plt.yscale('log')  # Échelle logarithmique pour mieux visualiser la décroissance\n",
    "    plt.tight_layout()\n",
    "    plt.show()"
   ]
  },
  {
   "cell_type": "code",
   "execution_count": null,
   "id": "ded2a110",
   "metadata": {},
   "outputs": [],
   "source": [
    "plot_norme_erreur(matrice , None)"
   ]
  },
  {
   "cell_type": "code",
   "execution_count": null,
   "id": "fbf8bf66",
   "metadata": {},
   "outputs": [],
   "source": [
    "plot_norme_erreur(matrice_exemple_3, None)"
   ]
  },
  {
   "cell_type": "code",
   "execution_count": null,
   "id": "6ef520db",
   "metadata": {},
   "outputs": [],
   "source": [
    "#Matrice aléatoire de test : \n",
    "np.random.seed(42)\n",
    "m, n = 20, 15\n",
    "matrice_alea = np.random.rand(m, n)\n",
    "    \n",
    "erreurs = plot_norme_erreur(matrice_alea , 15)\n",
    "    "
   ]
  },
  {
   "cell_type": "code",
   "execution_count": null,
   "id": "b1958e15",
   "metadata": {},
   "outputs": [],
   "source": [
    "# Norme d'erreur en pour bidiagonalisation + QR\n",
    "def norme_erreur_bidiagonale_qr(D , k):\n",
    "    U , B , V = bidiagonale(D)\n",
    "    U_bdiag , S_bdiag , V_tbdiag = qr_bidiagonal(B , U ,V)\n",
    "    U_k , Sk , V_tk = approximation_k(k , U_bdiag , S_bdiag , V_tbdiag)\n",
    "    Dk = U_k @ Sk @ V_tk\n",
    "    return np.linalg.norm(D - Dk, ord=2)\n",
    "    "
   ]
  },
  {
   "cell_type": "code",
   "execution_count": null,
   "id": "61b83476",
   "metadata": {},
   "outputs": [],
   "source": [
    "def plot_norme_erreur_bidiagonale_qr(matrice, max_k):\n",
    "    if max_k is None:\n",
    "        max_k = min(matrice.shape)\n",
    "    erreurs = []\n",
    "    for k in range(1, max_k + 1):\n",
    "        erreur = norme_erreur_bidiagonale_qr(matrice, k)\n",
    "        erreurs.append(erreur)\n",
    "    \n",
    "    plt.figure(figsize=(10, 6))\n",
    "    plt.plot(range(1, max_k + 1), erreurs, 'bo-', linewidth=2)\n",
    "    plt.title('Norme d\\'erreur ||D - Dk||₂ en fonction de k (Bidiagonalisation + QR)')\n",
    "    plt.xlabel('Nombre de valeurs singulières conservées (k)')\n",
    "    plt.ylabel('Norme d\\'erreur ||D - Dk||₂')\n",
    "    plt.grid(True)\n",
    "    plt.yscale('log')  # Échelle logarithmique pour mieux visualiser la décroissance\n",
    "    plt.tight_layout()\n",
    "    plt.show()  "
   ]
  },
  {
   "cell_type": "code",
   "execution_count": null,
   "id": "4174dcae",
   "metadata": {},
   "outputs": [],
   "source": [
    "# Test de la norme d'erreur EXEMPLE 1\n",
    "plot_norme_erreur_bidiagonale_qr(matrice , None)"
   ]
  },
  {
   "cell_type": "code",
   "execution_count": null,
   "id": "21dc5214",
   "metadata": {},
   "outputs": [],
   "source": [
    "# Test de la norme d'erreur EXEMPLE 3\n",
    "plot_norme_erreur_bidiagonale_qr(matrice_exemple_3 , None)"
   ]
  },
  {
   "cell_type": "code",
   "execution_count": null,
   "id": "a3996e26",
   "metadata": {},
   "outputs": [],
   "source": [
    "# Matrice aléatoire de test :\n",
    "#Matrice aléatoire de test : \n",
    "np.random.seed(42)\n",
    "m, n = 20, 15\n",
    "#Creer une matrice aléa D contenant que des 0 et 1\n",
    "\n",
    "matrice_alea = np.random.randint(0, 2, size=(m, n))\n",
    "    \n",
    "erreurs = plot_norme_erreur_bidiagonale_qr(matrice_alea , 15)\n",
    "    "
   ]
  },
  {
   "cell_type": "markdown",
   "id": "c9170187",
   "metadata": {},
   "source": [
    "##### Comparaison des résultats de l'exemple 3"
   ]
  },
  {
   "cell_type": "code",
   "execution_count": null,
   "id": "c124f8a2",
   "metadata": {},
   "outputs": [],
   "source": [
    "requete_qr_bidiagonale(matrice_exemple_3 , 10, vecteur_colonne_exemple_3_1)"
   ]
  },
  {
   "cell_type": "code",
   "execution_count": null,
   "id": "a7be40d7",
   "metadata": {},
   "outputs": [],
   "source": [
    "requete_SVD(matrice_exemple_3 , 10, vecteur_colonne_exemple_3_1)"
   ]
  },
  {
   "cell_type": "code",
   "execution_count": null,
   "id": "81ac9f3a",
   "metadata": {},
   "outputs": [],
   "source": [
    "resultat_requete(matrice_exemple_3, vecteur_colonne_exemple_3_1, score_min = 0.8)"
   ]
  },
  {
   "cell_type": "markdown",
   "id": "76c7566a",
   "metadata": {},
   "source": [
    "#### Variation de nb Matrice termes-documents et résultats sur le temps d'éxécution"
   ]
  },
  {
   "cell_type": "code",
   "execution_count": null,
   "id": "c7b13384",
   "metadata": {},
   "outputs": [],
   "source": [
    "\n",
    "\n",
    "# Mesure et traçage des temps d'exécution\n",
    "def plot_execution_time(functions):\n",
    "    # Valeurs de Nd (5, 10, ..., 200)\n",
    "    Nd_values = np.arange(5, 205, 5)\n",
    "    execution_times = {func.__name__: [] for func in functions}\n",
    "    valid_Nd = []\n",
    "    \n",
    "    # Mesurer le temps pour chaque Nd\n",
    "    for Nd in Nd_values:\n",
    "        # Calculer Nt = 3 * Nd\n",
    "        Nt = 3 * Nd\n",
    "        # Créer une matrice de zéros de taille Nt x Nd\n",
    "        try:\n",
    "            matrice = np.zeros((Nt, Nd))\n",
    "            valid = True\n",
    "            times = {}\n",
    "            \n",
    "            # Tester chaque fonction\n",
    "            for func in functions:\n",
    "                start_time = time.time()\n",
    "                result = func(matrice)\n",
    "                end_time = time.time()\n",
    "                \n",
    "                if result is not None:\n",
    "                    execution_time = end_time - start_time\n",
    "                    times[func.__name__] = execution_time\n",
    "                else:\n",
    "                    print(f\"Échec de {func.__name__} pour Nd={Nd}, Nt={Nt}\")\n",
    "                    valid = False\n",
    "                    break\n",
    "            \n",
    "            # Enregistrer les temps si toutes les fonctions ont réussi\n",
    "            if valid:\n",
    "                for func in functions:\n",
    "                    execution_times[func.__name__].append(times[func.__name__])\n",
    "                valid_Nd.append(Nd)\n",
    "        except Exception as e:\n",
    "            print(f\"Erreur pour Nd={Nd}, Nt={Nt} : {e}\")\n",
    "            continue\n",
    "    \n",
    "    if not valid_Nd:\n",
    "        print(\"Aucune mesure valide n'a été enregistrée.\")\n",
    "        return\n",
    "    \n",
    "    # Créer le graphique\n",
    "    plt.figure(figsize=(12, 7))\n",
    "    colors = ['b', 'r', 'g']\n",
    "    for i, func in enumerate(functions):\n",
    "        plt.plot(valid_Nd, execution_times[func.__name__], f'{colors[i]}-o', \n",
    "                label=f'{func.__name__}')\n",
    "    plt.xlabel('Nd (Nb colonnes)')\n",
    "    plt.ylabel('Temps d\\'exécution (secondes)')\n",
    "    plt.title('Comparaison des temps d\\'exécution de trois fonctions SVD (Nt = 3*Nd)')\n",
    "    plt.grid(True)\n",
    "    plt.legend()\n",
    "    \n",
    "    # Sauvegarder le graphique\n",
    "    plt.savefig('execution_time_svd_comparison.png')\n",
    "    plt.show()"
   ]
  },
  {
   "cell_type": "code",
   "execution_count": null,
   "id": "3f8130cd",
   "metadata": {},
   "outputs": [],
   "source": [
    "functions = [decomposition_SVD, bidiagonale_qr , ]\n",
    "plot_execution_time(functions)"
   ]
  },
  {
   "cell_type": "markdown",
   "id": "cdb9a23a",
   "metadata": {},
   "source": [
    "#### Etude de cas : documents.txt"
   ]
  },
  {
   "cell_type": "code",
   "execution_count": null,
   "id": "7c3ed021",
   "metadata": {},
   "outputs": [],
   "source": [
    "documents_fich = []\n",
    "termes_fich = set()\n",
    "\n",
    "with open(\"documents.txt\", \"r\", encoding='utf-8') as f:\n",
    "    for line in f:\n",
    "        line = line.strip()\n",
    "        if line:\n",
    "            # Séparer le numéro du reste du document\n",
    "            parts = line.split(' ', 1)\n",
    "            \n",
    "            if len(parts) > 1:\n",
    "                # Ajouter seulement le contenu (sans le numéro) à la liste des documents\n",
    "                documents_fich.append(parts[1])\n",
    "                \n",
    "                # Ajouter les termes à l'ensemble des termes\n",
    "                termes = parts[1].split()\n",
    "                for terme in termes:\n",
    "                    termes_fich.add(terme.lower())\n",
    "\n",
    "# Tri alphabétique des termes\n",
    "termes_fich= sorted(termes_fich)"
   ]
  },
  {
   "cell_type": "code",
   "execution_count": null,
   "id": "949ef36e",
   "metadata": {},
   "outputs": [],
   "source": [
    "mat_fich = matrice_termes_documents(termes_fich, documents_fich)\n",
    "mat_fich.shape , len(termes_fich) , len(documents_fich)"
   ]
  },
  {
   "cell_type": "code",
   "execution_count": null,
   "id": "5264db90",
   "metadata": {},
   "outputs": [],
   "source": [
    "#Test des methodes (Sans utilisation de la décomposition SVD) :\n",
    "requete_fich = \"java python\"\n",
    "vecteur_colonne_fich = requete_vers_colonne(termes_fich, requete_fich)\n",
    "\n",
    "print(\"\\n-------------TRAITEMENT---------------\\n\")\n",
    "requete_SVD(mat_fich , 62 , vecteur_colonne_fich)"
   ]
  },
  {
   "cell_type": "code",
   "execution_count": null,
   "id": "8323774d",
   "metadata": {},
   "outputs": [],
   "source": [
    "#sans SVD\n",
    "resultat_requete(mat_fich, vecteur_colonne_fich, score_min = 0.8)"
   ]
  },
  {
   "cell_type": "code",
   "execution_count": null,
   "id": "3e0003b4",
   "metadata": {},
   "outputs": [],
   "source": [
    "#bidiagonalisation + QR\n",
    "requete_qr_bidiagonale(mat_fich , 75, vecteur_colonne_fich)"
   ]
  }
 ],
 "metadata": {
  "kernelspec": {
   "display_name": "Python 3",
   "language": "python",
   "name": "python3"
  },
  "language_info": {
   "codemirror_mode": {
    "name": "ipython",
    "version": 3
   },
   "file_extension": ".py",
   "mimetype": "text/x-python",
   "name": "python",
   "nbconvert_exporter": "python",
   "pygments_lexer": "ipython3",
   "version": "3.12.6"
  }
 },
 "nbformat": 4,
 "nbformat_minor": 5
}
