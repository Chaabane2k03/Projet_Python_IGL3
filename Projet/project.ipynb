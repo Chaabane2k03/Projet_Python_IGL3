{
 "cells": [
  {
   "cell_type": "markdown",
   "id": "2d74ec04",
   "metadata": {},
   "source": [
    "### Projet IGL3/IDS3 : Analyse Numérique Matricielle dans le cadre de la gestion de bases de données bibliographiques "
   ]
  },
  {
   "cell_type": "code",
   "execution_count": null,
   "id": "243a435a",
   "metadata": {},
   "outputs": [],
   "source": [
    "import numpy as np\n",
    "from fuzzywuzzy import fuzz\n",
    "import matplotlib.pyplot as plt"
   ]
  },
  {
   "cell_type": "code",
   "execution_count": null,
   "id": "9d9cee5d",
   "metadata": {},
   "outputs": [],
   "source": [
    "# 1ère Partie : Calcul de score de document : Sans utilisation de la décomposition SVD\n",
    "# Modèle de l'espace vectoriel\n",
    "\n",
    "def matrice_termes_documents(termes, documents):\n",
    "    \"\"\"\n",
    "      Cette méthode permet de construire la matrice termes-documents.\n",
    "    \"\"\"\n",
    "    matrice = np.zeros((len(termes), len(documents)), dtype=int)\n",
    "\n",
    "    termes_sorted = sorted(termes)\n",
    "    termes_sorted = [terme.lower() for terme in termes_sorted]\n",
    "\n",
    "    documents_termes = []\n",
    "\n",
    "    for doc in documents :\n",
    "        if isinstance(doc, str) :\n",
    "            termes_doc = doc.lower().split()\n",
    "        else :\n",
    "            termes_doc = doc\n",
    "\n",
    "        documents_termes.append(termes_doc)\n",
    "\n",
    "    for i , terme in enumerate(termes_sorted) :\n",
    "        for j, doc_termes in enumerate(documents_termes) :\n",
    "            if terme in doc_termes :\n",
    "                matrice[i][j] = 1\n",
    "\n",
    "    return matrice "
   ]
  },
  {
   "cell_type": "code",
   "execution_count": null,
   "id": "444240ce",
   "metadata": {},
   "outputs": [],
   "source": [
    "def afficher_matrice(matrice) :\n",
    "    \"\"\"\n",
    "      Cette méthode permet d'afficher la matrice termes-documents.\n",
    "    \"\"\"\n",
    "    for i in range(matrice.shape[0]) :\n",
    "        for j in range(matrice.shape[1]) :\n",
    "            print(matrice[i][j], end = \" \")\n",
    "        print()"
   ]
  },
  {
   "cell_type": "code",
   "execution_count": null,
   "id": "703b6cac",
   "metadata": {},
   "outputs": [],
   "source": [
    "#Test de la méthode : \n",
    "# Génération de la matrice termes-documents (Exemple 1)\n",
    "documents = [\n",
    "    \"Algèbre linéaire et matrices\",\n",
    "    \"Analyse réele et suites\",\n",
    "    \"Probabilités et statistiques\",\n",
    "    \"Matrices et déterminants\"\n",
    "]\n",
    "\n",
    "termes = [\n",
    "    \"algèbre\",\n",
    "    \"matrices\",\n",
    "    \"analyse\",\n",
    "    \"suites\",\n",
    "    \"probabilités\",\n",
    "    \"statistiques\",\n",
    "    \"déterminants\"\n",
    "]\n",
    "\n",
    "\n",
    "matrice = matrice_termes_documents(termes, documents)\n",
    "afficher_matrice(matrice)"
   ]
  },
  {
   "cell_type": "code",
   "execution_count": null,
   "id": "42449424",
   "metadata": {},
   "outputs": [],
   "source": [
    "\n",
    "\n",
    "def requete_vers_colonne(termes, requete):\n",
    "    vecteur = [0] * len(termes) \n",
    "    termes_sorted = sorted(termes)\n",
    "    mots_requete = requete.lower().split()\n",
    "    \n",
    "    for i, terme in enumerate(termes_sorted):\n",
    "        for mot in mots_requete:\n",
    "            if fuzz.ratio(terme.lower(), mot) >= 90:\n",
    "                vecteur[i] = 1  \n",
    "                break  \n",
    "    \n",
    "    return vecteur\n"
   ]
  },
  {
   "cell_type": "code",
   "execution_count": null,
   "id": "7b4013fe",
   "metadata": {},
   "outputs": [],
   "source": [
    "#Test de la méthode :\n",
    "requete = \"Algèbre matrice\"\n",
    "vecteur_colonne = requete_vers_colonne(termes, requete)\n",
    "vecteur_colonne"
   ]
  },
  {
   "cell_type": "code",
   "execution_count": null,
   "id": "d478a639",
   "metadata": {},
   "outputs": [],
   "source": [
    "def score_document(j , matrice , q):\n",
    "    \"\"\"\n",
    "      Cette méthode permet de calculer le score d'un document j par rapport à une requête q.\n",
    "    \"\"\"\n",
    "    vect_doc = matrice[:, j]\n",
    "    norme_req = np.linalg.norm(q)\n",
    "    if norme_req == 0:\n",
    "        return 0\n",
    "    \n",
    "    norme_doc = np.linalg.norm(vect_doc)\n",
    "    if norme_doc == 0:\n",
    "        return 0\n",
    "    \n",
    "    produit_scalaire = np.dot(vect_doc, q)\n",
    "\n",
    "    score =  float(produit_scalaire / (norme_doc * norme_req))\n",
    "    return round(score, 2)"
   ]
  },
  {
   "cell_type": "code",
   "execution_count": null,
   "id": "a0006a30",
   "metadata": {},
   "outputs": [],
   "source": [
    "# Affichage des scores de documents : \n",
    "def tab_score(matrice , q):\n",
    "    \"\"\"\n",
    "      Cette méthode permet de calculer le score de chaque document par rapport à la requête q.\n",
    "    \"\"\"\n",
    "    scores = []\n",
    "    for j in range(matrice.shape[1]):\n",
    "        score = score_document(j, matrice, q)\n",
    "        scores.append(score)\n",
    "    return scores"
   ]
  },
  {
   "cell_type": "code",
   "execution_count": null,
   "id": "e1958b49",
   "metadata": {},
   "outputs": [],
   "source": [
    "def resultat_requete(matrice, q , score_min = 0.8):\n",
    "    \"\"\"\n",
    "    Cette méthode permet d'afficher le score de chaque document par rapport à la requête q\n",
    "    et détermine le document le plus pertinent.\n",
    "    \"\"\"\n",
    "    scores = tab_score(matrice, q)\n",
    "    \n",
    "    for i, score in enumerate(scores):\n",
    "        print(f\"Document {i+1} : {score}\")\n",
    "    \n",
    "    if len(scores) > 0 and max(scores) > score_min :\n",
    "        indice_max = scores.index(max(scores))\n",
    "        print(f\"\\nLe document le plus pertinent est le Document {indice_max+1} avec un score de {scores[indice_max]}\")\n",
    "    else:\n",
    "        print(\"\\nAucun document disponible pour évaluation\")"
   ]
  },
  {
   "cell_type": "code",
   "execution_count": null,
   "id": "6fbcaafe",
   "metadata": {},
   "outputs": [],
   "source": [
    "#Test des méthodes (Sans utilisation de la décomposition SVD) :\n",
    "# Exemple 1 : \n",
    "\n",
    "requete = \"Algèbre matrice\"\n",
    "vecteur_colonne = requete_vers_colonne(termes, requete)\n",
    "\n",
    "print(\"---------------AFFICHAGE DE LA MATRICE---------------\\n\")\n",
    "matrice = matrice_termes_documents(termes, documents)\n",
    "afficher_matrice(matrice)\n",
    "print(\"\\n---------------TRAVAIL DE LA REQUETE---------------\\n\")\n",
    "# Affichage des scores de documents :\n",
    "resultat_requete(matrice, vecteur_colonne, score_min = 0.8)\n"
   ]
  },
  {
   "cell_type": "code",
   "execution_count": null,
   "id": "9a3a545c",
   "metadata": {},
   "outputs": [],
   "source": [
    "# Avant le test de l'exemple 3 : Génération de la matrice termes-documents (Exemple 3)\n",
    "documents_exemple_3 = [\n",
    "    \"Croissance PIB Investissement\",\n",
    "    \"Inflation Monnaie Dépression\",\n",
    "    \"Commerce Exportation Croissance\",\n",
    "    \"Emploi Chômage Salaire\",\n",
    "    \"Impôts Fiscalité Budget\",\n",
    "    \"Géologie Faille Tremblement\",\n",
    "    \"Volcan Séisme Plaque tectonique\",\n",
    "    \"Dépression Bassin Erosion\",\n",
    "    \"Stratigraphie Couches Roche\",\n",
    "    \"Gisement Forage Bassin\"\n",
    "]\n",
    "\n",
    "termes_exemple_3 = [\n",
    "    \"Bassin\",\n",
    "    \"Chômage\",\n",
    "    \"Croissance\",\n",
    "    \"Dépression\",\n",
    "    \"Fiscalité\",\n",
    "    \"Séisme\"\n",
    "]\n",
    "\n",
    "matrice_exemple_3 = matrice_termes_documents(termes_exemple_3, documents_exemple_3)\n",
    "afficher_matrice(matrice_exemple_3)"
   ]
  },
  {
   "cell_type": "code",
   "execution_count": null,
   "id": "abde7825",
   "metadata": {},
   "outputs": [],
   "source": [
    "# Exemple 3 (REQUERTES) :\n",
    "requete_exemple_3_1 = \"dépression croissance\"\n",
    "requete_exemple_3_2 = \"bassin fiscalité\""
   ]
  },
  {
   "cell_type": "code",
   "execution_count": null,
   "id": "0693c97d",
   "metadata": {},
   "outputs": [],
   "source": [
    "#Test de la méthode (EXEMPLE 3) :\n",
    "vecteur_colonne_exemple_3_1 = requete_vers_colonne(termes_exemple_3, requete_exemple_3_1)\n",
    "vecteur_colonne_exemple_3_2 = requete_vers_colonne(termes_exemple_3, requete_exemple_3_2)\n",
    "\n",
    "print(\"\\n---------------TRAVAIL DE LA REQUETE 1---------------\\n\")\n",
    "resultat_requete(matrice_exemple_3, vecteur_colonne_exemple_3_1, score_min = 0.8)\n"
   ]
  },
  {
   "cell_type": "code",
   "execution_count": null,
   "id": "5bf809a6",
   "metadata": {},
   "outputs": [],
   "source": [
    "print(\"\\n---------------TRAVAIL DE LA REQUETE 2---------------\\n\")\n",
    "resultat_requete(matrice_exemple_3, vecteur_colonne_exemple_3_1, score_min = 0.8)"
   ]
  },
  {
   "cell_type": "markdown",
   "id": "e9fd044e",
   "metadata": {},
   "source": [
    "#### 2) Décomposition en valeurs singulières d'une matrice (SVD)"
   ]
  },
  {
   "cell_type": "code",
   "execution_count": null,
   "id": "fe236309",
   "metadata": {},
   "outputs": [],
   "source": [
    "#Application de la décomposition SVD (méthode prédéfinie) :\n",
    "def decomposition_SVD(matrice):\n",
    "    \"\"\"\n",
    "      Cette méthode permet de calculer la décomposition SVD de la matrice.\n",
    "    \"\"\"\n",
    "    U, S, Vt = np.linalg.svd(matrice, full_matrices=False)\n",
    "    return U, S, Vt"
   ]
  },
  {
   "cell_type": "code",
   "execution_count": null,
   "id": "82807e36",
   "metadata": {},
   "outputs": [],
   "source": [
    "#Test de la méthode :\n",
    "U , S , Vt = decomposition_SVD(matrice)\n",
    "print(\"\\n---------------DECOMPOSITION SVD---------------\\n\")\n",
    "print(\"Matrice U :\\n\", U)\n",
    "print(\"\\nMatrice S :\\n\", S)\n",
    "print(\"\\nMatrice Vt :\\n\", Vt)\n"
   ]
  },
  {
   "cell_type": "code",
   "execution_count": null,
   "id": "f851a3d5",
   "metadata": {},
   "outputs": [],
   "source": [
    "def approximation_SVD(matrice, k):\n",
    "    \"\"\"\n",
    "      Cette méthode permet de calculer l'approximation SVD de la matrice.\n",
    "    \"\"\"\n",
    "    U, S, Vt = decomposition_SVD(matrice)\n",
    "    S_k = np.zeros((U.shape[0], Vt.shape[0]))\n",
    "    np.fill_diagonal(S_k, S[:k])\n",
    "    return U[:, :k], S_k[:k, :k], Vt[:k, :]"
   ]
  },
  {
   "cell_type": "code",
   "execution_count": null,
   "id": "d08776d2",
   "metadata": {},
   "outputs": [],
   "source": [
    "#Test de la méthode :\n",
    "app_U , app_S , app_Vt = approximation_SVD(matrice, 3)\n",
    "print(\"\\n---------------APPROXIMATION SVD : TEST RESULTAS---------------\\n\")\n",
    "matrice.shape ,app_U.shape, app_S.shape, app_Vt.shape"
   ]
  },
  {
   "cell_type": "code",
   "execution_count": null,
   "id": "18ae334b",
   "metadata": {},
   "outputs": [],
   "source": [
    "#Fonction de calcul du score de document avec SVD (SCORE DE PERTINENCE) :\n",
    "def score_pertinence(q , j , U_k , Sk , V_tk ):\n",
    "    \"\"\"\n",
    "      Cette méthode permet de calculer le score de pertinence d'un document j par rapport à une requête q\n",
    "      en utilisant la décomposition SVD.\n",
    "\n",
    "      PARAMETRES (ENTRÉES) :\n",
    "        - q : vecteur colonne de la requête\n",
    "        - matrice : matrice termes-documents (ORIGINALE) (n,m)\n",
    "        - j : indice du document\n",
    "        - U_k : matrice U de la décomposition SVD (approximation par k) : shape (n,k)\n",
    "        - Sk : matrice S de la décomposition SVD (approximation par k) : shape (k,k)\n",
    "        - V_tk : matrice Vt (transposé) de la décomposition SVD (approximation par k) : shape (k,m)\n",
    "    \"\"\"\n",
    "    # transposition de la matrice U_k\n",
    "    U_k_transpose = U_k.T\n",
    "    prod_1 = U_k_transpose @ q # produit de la matrice U_k transposée et du vecteur colonne q\n",
    "    prod_2 = Sk @ V_tk[: , j] # produit de la matrice S_k et de la matrice Vt_k et du vecteur colonne du document j\n",
    "\n",
    "    dominateur = np.linalg.norm(prod_1) * np.linalg.norm(prod_2) # produit des normes\n",
    "    if dominateur == 0:\n",
    "        return 0\n",
    "    \n",
    "    score = float(np.dot(prod_1, prod_2) / dominateur) # produit scalaire entre les deux produits\n",
    "    return round(score, 2) # arrondi à 2 chiffres après la virgule\n",
    "   "
   ]
  },
  {
   "cell_type": "code",
   "execution_count": null,
   "id": "d4680a1d",
   "metadata": {},
   "outputs": [],
   "source": [
    "# calcul scores de documents : \n",
    "def tab_score_pertinence(q , matrice , U_k , Sk , V_tk):\n",
    "    \"\"\"\n",
    "      Cette méthode permet de calculer le score de chaque document par rapport à la requête q.\n",
    "    \"\"\"\n",
    "    scores = []\n",
    "    for j in range(matrice.shape[1]):\n",
    "        score = score_pertinence(q  , j , U_k , Sk , V_tk)\n",
    "        scores.append(score)\n",
    "    return scores"
   ]
  },
  {
   "cell_type": "code",
   "execution_count": null,
   "id": "278e024a",
   "metadata": {},
   "outputs": [],
   "source": [
    "def resultat_requete_pertinence(q , matrice , U_k , Sk , V_tk, score_min = 0.8):\n",
    "    \"\"\"\n",
    "    Cette méthode permet d'afficher le score de chaque document par rapport à la requête q\n",
    "    et détermine le document le plus pertinent.\n",
    "    \"\"\"\n",
    "    scores = tab_score_pertinence(q , matrice , U_k , Sk , V_tk)\n",
    "    \n",
    "    for i, score in enumerate(scores):\n",
    "        print(f\"Document {i+1} : {score}\")\n",
    "    \n",
    "    if len(scores) > 0 and max(scores) > score_min :\n",
    "        indice_max = scores.index(max(scores))\n",
    "        print(f\"\\nLe document le plus pertinent est le Document {indice_max+1} avec un score de {scores[indice_max]}\")\n",
    "    else:\n",
    "        print(\"\\nAucun document disponible pour évaluation\")"
   ]
  },
  {
   "cell_type": "code",
   "execution_count": null,
   "id": "783870cc",
   "metadata": {},
   "outputs": [],
   "source": [
    "#méthode illustrative de (Décomposition en valeurs singulières d'une matrice (SVD))\n",
    "def requete_SVD(matrice , k , q) : \n",
    "    U_k , Sk , V_tk = approximation_SVD(matrice, k)\n",
    "    resultat_requete_pertinence(q , matrice , U_k , Sk , V_tk , 0.8)\n",
    "    "
   ]
  },
  {
   "cell_type": "code",
   "execution_count": null,
   "id": "afc9c4e3",
   "metadata": {},
   "outputs": [],
   "source": [
    "#Test de la méthode : score_pertinence\n",
    "requete = \"Algèbre matrice\"\n",
    "vecteur_colonne = requete_vers_colonne(termes, requete)\n",
    "print(\"---------------AFFICHAGE DE LA MATRICE---------------\\n\")\n",
    "matrice = matrice_termes_documents(termes, documents)\n",
    "afficher_matrice(matrice)\n",
    "print(\"\\n-------------TRAITEMENT---------------\\n\")\n",
    "requete_SVD(matrice , 4 , vecteur_colonne)\n"
   ]
  },
  {
   "cell_type": "code",
   "execution_count": null,
   "id": "48623051",
   "metadata": {},
   "outputs": [],
   "source": [
    "#EXEMPLE 3 (REQUERTES DEJA PREPARES) :\n",
    "print(\"\\n---------------TRAVAIL DE LA REQUETE 1---------------\\n\")\n",
    "requete_SVD(matrice_exemple_3 , 6 , vecteur_colonne_exemple_3_1)"
   ]
  },
  {
   "cell_type": "code",
   "execution_count": null,
   "id": "82f63dd0",
   "metadata": {},
   "outputs": [],
   "source": [
    "#EXEMPLE 3 (REQUERTES DEJA PREPARES) :\n",
    "print(\"\\n---------------TRAVAIL DE LA REQUETE 2---------------\\n\")\n",
    "requete_SVD(matrice_exemple_3 , 6 , vecteur_colonne_exemple_3_2)"
   ]
  },
  {
   "cell_type": "markdown",
   "id": "cc621539",
   "metadata": {},
   "source": [
    "##### Accélération des calculs : Bidiagonalisation et méthode QR "
   ]
  },
  {
   "cell_type": "code",
   "execution_count": null,
   "id": "508a8bea",
   "metadata": {},
   "outputs": [],
   "source": [
    "def bidiagonale(A):\n",
    "    A = np.asarray(A)\n",
    "    m, n = A.shape\n",
    "    \n",
    "    p = min(m, n) \n",
    "    alpha = np.zeros(p)\n",
    "    beta = np.zeros(max(0, p-1)) \n",
    "    \n",
    "    U = np.zeros((m, p))\n",
    "    V = np.zeros((n, p))\n",
    "    \n",
    "    u = np.random.randn(m)\n",
    "    u = u / np.linalg.norm(u)\n",
    "    U[:, 0] = u\n",
    "    \n",
    "    for i in range(p):\n",
    "        v = A.T @ U[:, i]\n",
    "        if i > 0:\n",
    "            v = v - beta[i-1] * V[:, i-1]\n",
    "        alpha[i] = np.linalg.norm(v)\n",
    "        V[:, i] = v / alpha[i]\n",
    "        \n",
    "        if i < p-1:\n",
    "            u = A @ V[:, i]\n",
    "            u = u - alpha[i] * U[:, i]\n",
    "            beta[i] = np.linalg.norm(u)\n",
    "            U[:, i+1] = u / beta[i]\n",
    "    \n",
    "    B = np.zeros((p, p))\n",
    "    np.fill_diagonal(B, alpha)\n",
    "    if p > 1:\n",
    "        np.fill_diagonal(B[1:, :-1], beta)\n",
    "    \n",
    "    return U, B, V\n",
    "    "
   ]
  },
  {
   "cell_type": "code",
   "execution_count": null,
   "id": "d38b5839",
   "metadata": {},
   "outputs": [],
   "source": [
    "#Test de la méthode de Bidiagonalisation :\n",
    "A = np.array([[1, 2, 3], [4, 5, 6], [7, 8, 9], [10, 11, 12]])\n",
    "U, B, V = bidiagonale(A)\n",
    "\n",
    "\n",
    "\n",
    "print('Original matrix:')\n",
    "print(A)\n",
    "print('\\nReconstructed matrix (U @ B @ V^T):')\n",
    "print(U @ B @ V.T)\n",
    "print('\\nCheck norm of difference:', np.linalg.norm(A - U @ B @ V.T))"
   ]
  },
  {
   "cell_type": "code",
   "execution_count": null,
   "id": "c0a3051e",
   "metadata": {},
   "outputs": [],
   "source": [
    "#Test des propriétés de la matrice bidiagonale :\n",
    "print(B.shape)\n",
    "B"
   ]
  },
  {
   "cell_type": "code",
   "execution_count": null,
   "id": "1cd4b9a2",
   "metadata": {},
   "outputs": [],
   "source": [
    "def qr_decomposition(A):\n",
    "    n , m = A.shape\n",
    "    Q = np.zeros((n, m))\n",
    "    R = np.zeros((m, m))\n",
    "\n",
    "    for j in range(m):\n",
    "        v = A[:, j]\n",
    "        for i in range(j):\n",
    "            R[i, j] = np.dot(Q[:, i], A[:, j])\n",
    "            v -= R[i, j] * Q[:, i]\n",
    "        R[j, j] = np.linalg.norm(v)\n",
    "        Q[:, j] = v / R[j, j]\n",
    "    return Q, R"
   ]
  },
  {
   "cell_type": "code",
   "execution_count": null,
   "id": "e3c44d70",
   "metadata": {},
   "outputs": [],
   "source": [
    "#test de la méthode qr_decomposition\n",
    "A = np.array([[1, -1, 4], [1, 4, -2], [1, 4, 2], [1, -1, 0]], dtype=float)  # Ensure A is of type float\n",
    "Q, R = qr_decomposition(A)\n",
    "print(\"Q:\", Q)\n",
    "print(\"R:\", R)"
   ]
  },
  {
   "cell_type": "code",
   "execution_count": null,
   "id": "398d5120",
   "metadata": {},
   "outputs": [],
   "source": [
    "def qr_bidiagonal(B, U_bidiag, V_bidiag, max_iter=1000, tol=1e-10):\n",
    "    \"\"\"\n",
    "    Cette méthode permet de calculer la décomposition SVD d'une matrice bidiagonale B\n",
    "    en partant des matrices U_bidiag et V_bidiag issues de la bidiagonalisation.\n",
    "    \n",
    "    Retourne les matrices U, Sk, V_t telles que A = U @ Sk @ V_t\n",
    "    \"\"\"\n",
    "    m, n = B.shape\n",
    "    p = min(m, n)\n",
    "    Bk = B.copy()\n",
    "    \n",
    "    # Initialiser U et V avec les matrices de la bidiagonalisation\n",
    "    U = U_bidiag.copy()\n",
    "    V = V_bidiag.copy()\n",
    "    \n",
    "    for k in range(max_iter):\n",
    "        # Calculer la décomposition QR de Bk\n",
    "        Q_k, R_k = qr_decomposition(Bk)\n",
    "        \n",
    "        # Mettre à jour U en multipliant par Q_k\n",
    "        U = U @ Q_k\n",
    "        \n",
    "        # Calculer la décomposition QR de R_k transposée\n",
    "        Q_tilde, B_k1 = qr_decomposition(R_k.T)\n",
    "        \n",
    "        # Mettre à jour V en multipliant par Q_tilde\n",
    "        V = V @ Q_tilde\n",
    "        \n",
    "        # Vérifier la convergence\n",
    "        diag = np.diag(B_k1)\n",
    "        off_diag = np.diag(B_k1, k=1) if p > 1 else np.array([])\n",
    "        \n",
    "        if np.all(np.abs(off_diag) < tol * np.abs(diag[:-1])):\n",
    "            break\n",
    "            \n",
    "        Bk = B_k1.T\n",
    "    \n",
    "    # Extraire les valeurs singulières et créer la matrice diagonale Sk\n",
    "    singular_values = np.abs(np.diag(Bk))\n",
    "    Sk = np.zeros((m, n))\n",
    "    for i in range(p):\n",
    "        Sk[i, i] = singular_values[i]\n",
    "    \n",
    "    # Retourner les matrices U, Sk et V_t\n",
    "    return U, Sk, V.T"
   ]
  },
  {
   "cell_type": "code",
   "execution_count": null,
   "id": "90060b20",
   "metadata": {},
   "outputs": [],
   "source": [
    "# Matrice de test\n",
    "A = np.array([[1, 2, 3], [4, 5, 6], [7, 8, 9], [10, 11, 12]])\n",
    "\n",
    "# Étape 1: Bidiagonalisation\n",
    "U, B, V = bidiagonale(A)\n",
    "print(\"Matrice bidiagonale B:\\n\", B)\n",
    "\n",
    "# Étape 2: Algorithme QR pour B\n",
    "U_test, Sk, V_t_test = qr_bidiagonal(B, U, V)\n",
    "print(\"\\nValeurs singulières calculées:\", np.diag(Sk))\n",
    "\n",
    "# Comparaison avec la SVD de NumPy\n",
    "U_numpy, s_numpy, Vt_numpy = np.linalg.svd(A, full_matrices=False)\n",
    "print(\"\\nValeurs singulières NumPy:\", s_numpy)\n",
    "\n",
    "# Afficher l'erreur relative\n",
    "error = np.linalg.norm(np.diag(Sk) - s_numpy) / np.linalg.norm(s_numpy)\n",
    "print(\"\\nErreur relative:\", error)\n",
    "\n",
    "# Vérifier que A ≈ U_test @ Sk @ V_t_test\n",
    "A_reconstitue = U_test @ Sk @ V_t_test\n",
    "print(\"\\nErreur de reconstitution:\", np.linalg.norm(A - A_reconstitue) / np.linalg.norm(A))\n",
    "\n",
    "# Comparer les produits\n",
    "print(\"\\nMatrice originale A:\\n\", A)\n",
    "print(\"\\nMatrice reconstruite U_test @ Sk @ V_t_test:\\n\", A_reconstitue)"
   ]
  },
  {
   "cell_type": "code",
   "execution_count": null,
   "id": "d7ee968a",
   "metadata": {},
   "outputs": [],
   "source": [
    "def approximation_k (k , U_k , Sk , V_tk) :\n",
    "    return U_k[:, :k], Sk[:k, :k], V_tk[:k, :]"
   ]
  },
  {
   "cell_type": "code",
   "execution_count": null,
   "id": "c99e3e6c",
   "metadata": {},
   "outputs": [],
   "source": [
    "def requete_qr_bidiagonale(matrice ,k , q) : \n",
    "\n",
    "    U , B , V = bidiagonale(matrice)\n",
    "    U_bdiag , S_bdiag , V_tbdiag = qr_bidiagonal(B , U ,V)\n",
    "    U_k , Sk , V_tk = approximation_k(k , U_bdiag , S_bdiag , V_tbdiag)\n",
    "    resultat_requete_pertinence(q , matrice , U_k , Sk , V_tk , 0.8)"
   ]
  },
  {
   "cell_type": "code",
   "execution_count": null,
   "id": "53d8694b",
   "metadata": {},
   "outputs": [],
   "source": [
    "# EXEMPLE 1 :\n",
    "requete = \"Algèbre matrice\"\n",
    "vecteur_colonne = requete_vers_colonne(termes, requete)\n",
    "print(\"---------------AFFICHAGE DE LA MATRICE---------------\\n\")\n",
    "matrice = matrice_termes_documents(termes, documents)\n",
    "afficher_matrice(matrice)\n",
    "print(\"\\n-------------TRAITEMENT---------------\\n\")\n",
    "requete_qr_bidiagonale(matrice, 4, vecteur_colonne)\n"
   ]
  },
  {
   "cell_type": "code",
   "execution_count": null,
   "id": "486d7aa1",
   "metadata": {},
   "outputs": [],
   "source": [
    "#EXEMPLE 3 (REQUERTES DEJA PREPARES) :\n",
    "print(\"\\n---------------TRAVAIL DE LA REQUETE 1---------------\\n\")\n",
    "requete_qr_bidiagonale(matrice_exemple_3 , 10, vecteur_colonne_exemple_3_1)"
   ]
  },
  {
   "cell_type": "code",
   "execution_count": null,
   "id": "1ebd7d7e",
   "metadata": {},
   "outputs": [],
   "source": [
    "#EXEMPLE 3 (REQUERTES DEJA PREPARES) :\n",
    "print(\"\\n---------------TRAVAIL DE LA REQUETE 2---------------\\n\")\n",
    "requete_qr_bidiagonale(matrice_exemple_3 , 5 , vecteur_colonne_exemple_3_2)"
   ]
  },
  {
   "cell_type": "markdown",
   "id": "3a3a2842",
   "metadata": {},
   "source": [
    "#### Variation du rang k et ses effets au  termes de classification des documents par score de pertinence , erreur de reconstruction "
   ]
  },
  {
   "cell_type": "markdown",
   "id": "98d89cd4",
   "metadata": {},
   "source": [
    "##### 1) Approche SVD"
   ]
  },
  {
   "cell_type": "code",
   "execution_count": null,
   "id": "f6b0d877",
   "metadata": {},
   "outputs": [],
   "source": [
    "# variations de rang k avec k << min(Nt , Nd)\n",
    "# EXEMPLE 1 : \n",
    "max_k = min(matrice.shape)\n",
    "\n",
    "for k in range (1 , max_k + 1) : \n",
    "    print(\"Pour k = \" , k)\n",
    "    requete_SVD(matrice , k , vecteur_colonne)\n",
    "    print(\"\\n----------------------------------------------------\\n\")"
   ]
  },
  {
   "cell_type": "code",
   "execution_count": null,
   "id": "8c53cb14",
   "metadata": {},
   "outputs": [],
   "source": [
    "# variations de rang k avec k << min(Nt , Nd)\n",
    "# EXEMPLE 3 Requete 1 : \n",
    "max_k = min(matrice_exemple_3.shape)\n",
    "\n",
    "for k in range (1 , max_k + 1) : \n",
    "    print(\"Pour k = \" , k)\n",
    "    requete_SVD(matrice_exemple_3 , k , vecteur_colonne_exemple_3_1)\n",
    "    print(\"\\n----------------------------------------------------\\n\")"
   ]
  },
  {
   "cell_type": "code",
   "execution_count": null,
   "id": "7b54d382",
   "metadata": {},
   "outputs": [],
   "source": [
    "# variations de rang k avec k << min(Nt , Nd)\n",
    "# EXEMPLE 3 Requete 2 : \n",
    "max_k = min(matrice_exemple_3.shape)\n",
    "\n",
    "for k in range (1 , max_k + 1) : \n",
    "    print(\"Pour k = \" , k)\n",
    "    requete_SVD(matrice_exemple_3 , k , vecteur_colonne_exemple_3_2)\n",
    "    print(\"\\n----------------------------------------------------\\n\")"
   ]
  },
  {
   "cell_type": "code",
   "execution_count": null,
   "id": "aa2ad3a8",
   "metadata": {},
   "outputs": [
    {
     "name": "stdout",
     "output_type": "stream",
     "text": [
      "Norme d'erreur ||D - Dk||2: 1.414213562373095\n"
     ]
    }
   ],
   "source": [
    "# La norme d'erreur ||D - Dk ||2 : test avant la méthode\n",
    "U , S , V = decomposition_SVD(matrice)\n",
    "D = U @ np.diag(S) @ V\n",
    "Uk , Sk , Vk = approximation_SVD(matrice , 1)\n",
    "Uk.shape , Sk.shape , Vk.shape\n",
    "Dk = Uk @ Sk @ Vk\n",
    "\n",
    "# Calcul de la norme d'erreur\n",
    "\n",
    "norme_erreur = np.linalg.norm(D - Dk, ord=2)\n",
    "print(\"Norme d'erreur ||D - Dk||2:\", norme_erreur)"
   ]
  },
  {
   "cell_type": "code",
   "execution_count": 57,
   "id": "3854e050",
   "metadata": {},
   "outputs": [],
   "source": [
    "def norme_erreur_svd(matrice , k) : \n",
    "    U , S , V = decomposition_SVD(matrice)\n",
    "    D = U @ np.diag(S) @ V\n",
    "    Uk , Sk , Vk = approximation_SVD(matrice , k)\n",
    "    Dk = Uk @ Sk @ Vk\n",
    "    norme_erreur = np.linalg.norm(D - Dk, ord=2)\n",
    "    return norme_erreur"
   ]
  },
  {
   "cell_type": "code",
   "execution_count": 58,
   "id": "02242ae9",
   "metadata": {},
   "outputs": [],
   "source": [
    "def plot_norme_erreur(matrice, max_k):\n",
    "    if max_k is None:\n",
    "        max_k = min(matrice.shape)\n",
    "    erreurs = []\n",
    "    for k in range(1, max_k + 1):\n",
    "        erreur = norme_erreur_svd(matrice, k)\n",
    "        erreurs.append(erreur)\n",
    "    \n",
    "    plt.figure(figsize=(10, 6))\n",
    "    plt.plot(range(1, max_k + 1), erreurs, 'bo-', linewidth=2)\n",
    "    plt.title('Norme d\\'erreur ||D - Dk||₂ en fonction de k')\n",
    "    plt.xlabel('Nombre de valeurs singulières conservées (k)')\n",
    "    plt.ylabel('Norme d\\'erreur ||D - Dk||₂')\n",
    "    plt.grid(True)\n",
    "    plt.yscale('log')  # Échelle logarithmique pour mieux visualiser la décroissance\n",
    "    plt.tight_layout()\n",
    "    plt.show()"
   ]
  },
  {
   "cell_type": "code",
   "execution_count": 60,
   "id": "ded2a110",
   "metadata": {},
   "outputs": [
    {
     "data": {
      "image/png": "[encoded data removed]",
      "text/plain": [
       "<Figure size 1000x600 with 1 Axes>"
      ]
     },
     "metadata": {},
     "output_type": "display_data"
    }
   ],
   "source": [
    "plot_norme_erreur(matrice , None)"
   ]
  },
  {
   "cell_type": "code",
   "execution_count": 61,
   "id": "fbf8bf66",
   "metadata": {},
   "outputs": [
    {
     "data": {
      "image/png": "[encoded data removed]",
      "text/plain": [
       "<Figure size 1000x600 with 1 Axes>"
      ]
     },
     "metadata": {},
     "output_type": "display_data"
    }
   ],
   "source": [
    "plot_norme_erreur(matrice_exemple_3, None)"
   ]
  },
  {
   "cell_type": "code",
   "execution_count": null,
   "id": "6ef520db",
   "metadata": {},
   "outputs": [
    {
     "data": {
      "image/png": "[encoded data removed]",
      "text/plain": [
       "<Figure size 1000x600 with 1 Axes>"
      ]
     },
     "metadata": {},
     "output_type": "display_data"
    }
   ],
   "source": [
    "#Matrice aléatoire de test : \n",
    "np.random.seed(42)\n",
    "m, n = 20, 15\n",
    "matrice_alea = np.random.rand(m, n)\n",
    "    \n",
    "erreurs = plot_norme_erreur(matrice_alea , 15)\n",
    "    "
   ]
  },
  {
   "cell_type": "code",
   "execution_count": null,
   "id": "b1958e15",
   "metadata": {},
   "outputs": [
    {
     "name": "stdout",
     "output_type": "stream",
     "text": [
      "Norme d'erreur ||D - Dk||2: 14.401270376944446\n"
     ]
    }
   ],
   "source": [
    "# Norme d'erreur en pour bidiagonalisation + QR\n",
    "def norme_erreur_bidiagonale_qr(D , k):\n",
    "    _ , B, _ = bidiagonale(D)\n",
    "    "
   ]
  }
 ],
 "metadata": {
  "kernelspec": {
   "display_name": "Python 3",
   "language": "python",
   "name": "python3"
  },
  "language_info": {
   "codemirror_mode": {
    "name": "ipython",
    "version": 3
   },
   "file_extension": ".py",
   "mimetype": "text/x-python",
   "name": "python",
   "nbconvert_exporter": "python",
   "pygments_lexer": "ipython3",
   "version": "3.12.6"
  }
 },
 "nbformat": 4,
 "nbformat_minor": 5
}
